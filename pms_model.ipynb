{
 "cells": [
  {
   "cell_type": "code",
   "execution_count": 4,
   "metadata": {},
   "outputs": [],
   "source": [
    "## Imports\n",
    "import tarfile\n",
    "import urllib\n",
    "import re\n",
    "\n",
    "from rich import print, progress\n",
    "\n",
    "import pandas as pd\n",
    "import numpy as np\n",
    "\n",
    "import matplotlib.pyplot as plt\n",
    "import seaborn as sns\n",
    "\n",
    "import spectrum_utils.spectrum as sus\n",
    "import spectrum_utils.plot as sup\n",
    "\n",
    "from sklearn.model_selection import train_test_split\n",
    "from sklearn.ensemble import GradientBoostingRegressor\n",
    "\n",
    "from hyperopt import fmin, hp, tpe, STATUS_OK\n",
    "\n",
    "np.random.seed(42)"
   ]
  },
  {
   "cell_type": "code",
   "execution_count": 5,
   "metadata": {},
   "outputs": [],
   "source": [
    "library_file = \"human_hcd_tryp_best.msp\""
   ]
  },
  {
   "cell_type": "code",
   "execution_count": 6,
   "metadata": {},
   "outputs": [],
   "source": [
    "## Downloading the dataset\n",
    "url = \"https://chemdata.nist.gov/download/peptide_library/libraries/human/HCD/2020_05_19/human_hcd_tryp_best.msp.tar.gz\"\n",
    "\n",
    "# Download file\n",
    "_ = urllib.request.urlretrieve(url, f\"{library_file}.tar.gz\")\n",
    "\n",
    "with tarfile.open(f\"{library_file}.tar.gz\") as f:\n",
    "    f.extractall(\"./datasets/\")"
   ]
  },
  {
   "cell_type": "code",
   "execution_count": 7,
   "metadata": {},
   "outputs": [
    {
     "data": {
      "text/plain": [
       "'./datasets/human_hcd_tryp_best.msp'"
      ]
     },
     "execution_count": 7,
     "metadata": {},
     "output_type": "execute_result"
    }
   ],
   "source": [
    "dataset_location = \"./datasets/\" + f\"{library_file}\"\n",
    "dataset_location"
   ]
  },
  {
   "cell_type": "code",
   "execution_count": 12,
   "metadata": {},
   "outputs": [
    {
     "data": {
      "text/html": [
       "<pre style=\"white-space:pre;overflow-x:auto;line-height:normal;font-family:Menlo,'DejaVu Sans Mono',consolas,'Courier New',monospace\">Name: AAAAAAAAAAAAAAAGAGAGAK/2_0\n",
       "</pre>\n"
      ],
      "text/plain": [
       "Name: AAAAAAAAAAAAAAAGAGAGAK/2_0\n"
      ]
     },
     "metadata": {},
     "output_type": "display_data"
    },
    {
     "data": {
      "text/html": [
       "<pre style=\"white-space:pre;overflow-x:auto;line-height:normal;font-family:Menlo,'DejaVu Sans Mono',consolas,'Courier New',monospace\">Comment: Consensus <span style=\"color: #808000; text-decoration-color: #808000\">Pep</span>=<span style=\"color: #800080; text-decoration-color: #800080\">Tryptic</span> <span style=\"color: #808000; text-decoration-color: #808000\">Peptype</span>=<span style=\"font-weight: bold\">&lt;</span><span style=\"color: #ff00ff; text-decoration-color: #ff00ff; font-weight: bold\">Protein</span><span style=\"font-weight: bold\">&gt;&lt;</span><span style=\"color: #ff00ff; text-decoration-color: #ff00ff; font-weight: bold\">Peptide</span><span style=\"font-weight: bold\">&gt;&lt;</span><span style=\"color: #ff00ff; text-decoration-color: #ff00ff; font-weight: bold\">Protein</span><span style=\"font-weight: bold\">&gt;</span> <span style=\"color: #808000; text-decoration-color: #808000\">Mods</span>=<span style=\"color: #008080; text-decoration-color: #008080; font-weight: bold\">0</span> <span style=\"color: #808000; text-decoration-color: #808000\">Fullname</span>=<span style=\"color: #800080; text-decoration-color: #800080\">R</span>.AAAAAAAAAAAAAAAGAGAGAK.Q \n",
       "<span style=\"color: #808000; text-decoration-color: #808000\">Charge</span>=<span style=\"color: #008080; text-decoration-color: #008080; font-weight: bold\">2</span> <span style=\"color: #808000; text-decoration-color: #808000\">Parent</span>=<span style=\"color: #008080; text-decoration-color: #008080; font-weight: bold\">798.9263</span> <span style=\"color: #808000; text-decoration-color: #808000\">CE</span>=<span style=\"color: #008080; text-decoration-color: #008080; font-weight: bold\">42.09</span> <span style=\"color: #808000; text-decoration-color: #808000\">NCE</span>=<span style=\"color: #008080; text-decoration-color: #008080; font-weight: bold\">29.43</span> Q-<span style=\"color: #808000; text-decoration-color: #808000\">value</span>=<span style=\"color: #008080; text-decoration-color: #008080; font-weight: bold\">0.0000</span> <span style=\"color: #808000; text-decoration-color: #808000\">Nprot</span>=<span style=\"color: #008080; text-decoration-color: #008080; font-weight: bold\">1</span> <span style=\"color: #808000; text-decoration-color: #808000\">Protein</span>=<span style=\"color: #008000; text-decoration-color: #008000\">\"sp|P55011|S12A2_HUMAN(pre=R,post=Q)\"</span> \n",
       "<span style=\"color: #808000; text-decoration-color: #808000\">Nrep</span>=<span style=\"color: #008080; text-decoration-color: #008080; font-weight: bold\">134</span>/<span style=\"color: #008080; text-decoration-color: #008080; font-weight: bold\">200</span> <span style=\"color: #808000; text-decoration-color: #808000\">Theo_mz_diff</span>=<span style=\"color: #008080; text-decoration-color: #008080; font-weight: bold\">1.</span>2ppm <span style=\"color: #808000; text-decoration-color: #808000\">Quality</span>=<span style=\"color: #008080; text-decoration-color: #008080; font-weight: bold\">7</span>/<span style=\"color: #008080; text-decoration-color: #008080; font-weight: bold\">7</span> <span style=\"color: #808000; text-decoration-color: #808000\">MC</span>=<span style=\"color: #008080; text-decoration-color: #008080; font-weight: bold\">0</span> <span style=\"color: #808000; text-decoration-color: #808000\">MCtype</span>=<span style=\"color: #800080; text-decoration-color: #800080\">Normal</span> <span style=\"color: #808000; text-decoration-color: #808000\">Unassigned_all_20ppm</span>=<span style=\"color: #008080; text-decoration-color: #008080; font-weight: bold\">0.1424</span> <span style=\"color: #808000; text-decoration-color: #808000\">Unassigned_20ppm</span>=<span style=\"color: #008080; text-decoration-color: #008080; font-weight: bold\">0.0416</span>\n",
       "<span style=\"color: #808000; text-decoration-color: #808000\">num_unassigned_peaks_20ppm</span>=<span style=\"color: #008080; text-decoration-color: #008080; font-weight: bold\">44</span> <span style=\"color: #808000; text-decoration-color: #808000\">max_unassigned_ab_20ppm</span>=<span style=\"color: #008080; text-decoration-color: #008080; font-weight: bold\">0.41</span> <span style=\"color: #808000; text-decoration-color: #808000\">top_20_num_unassigned_peaks_20ppm</span>=<span style=\"color: #008080; text-decoration-color: #008080; font-weight: bold\">1</span>/<span style=\"color: #008080; text-decoration-color: #008080; font-weight: bold\">20</span>\n",
       "</pre>\n"
      ],
      "text/plain": [
       "Comment: Consensus \u001b[33mPep\u001b[0m=\u001b[35mTryptic\u001b[0m \u001b[33mPeptype\u001b[0m=\u001b[1m<\u001b[0m\u001b[1;95mProtein\u001b[0m\u001b[1m>\u001b[0m\u001b[1m<\u001b[0m\u001b[1;95mPeptide\u001b[0m\u001b[1m>\u001b[0m\u001b[1m<\u001b[0m\u001b[1;95mProtein\u001b[0m\u001b[1m>\u001b[0m \u001b[33mMods\u001b[0m=\u001b[1;36m0\u001b[0m \u001b[33mFullname\u001b[0m=\u001b[35mR\u001b[0m.AAAAAAAAAAAAAAAGAGAGAK.Q \n",
       "\u001b[33mCharge\u001b[0m=\u001b[1;36m2\u001b[0m \u001b[33mParent\u001b[0m=\u001b[1;36m798\u001b[0m\u001b[1;36m.9263\u001b[0m \u001b[33mCE\u001b[0m=\u001b[1;36m42\u001b[0m\u001b[1;36m.09\u001b[0m \u001b[33mNCE\u001b[0m=\u001b[1;36m29\u001b[0m\u001b[1;36m.43\u001b[0m Q-\u001b[33mvalue\u001b[0m=\u001b[1;36m0\u001b[0m\u001b[1;36m.0000\u001b[0m \u001b[33mNprot\u001b[0m=\u001b[1;36m1\u001b[0m \u001b[33mProtein\u001b[0m=\u001b[32m\"sp\u001b[0m\u001b[32m|P55011|S12A2_HUMAN\u001b[0m\u001b[32m(\u001b[0m\u001b[32mpre\u001b[0m\u001b[32m=\u001b[0m\u001b[32mR\u001b[0m\u001b[32m,\u001b[0m\u001b[32mpost\u001b[0m\u001b[32m=\u001b[0m\u001b[32mQ\u001b[0m\u001b[32m)\u001b[0m\u001b[32m\"\u001b[0m \n",
       "\u001b[33mNrep\u001b[0m=\u001b[1;36m134\u001b[0m/\u001b[1;36m200\u001b[0m \u001b[33mTheo_mz_diff\u001b[0m=\u001b[1;36m1\u001b[0m\u001b[1;36m.\u001b[0m2ppm \u001b[33mQuality\u001b[0m=\u001b[1;36m7\u001b[0m/\u001b[1;36m7\u001b[0m \u001b[33mMC\u001b[0m=\u001b[1;36m0\u001b[0m \u001b[33mMCtype\u001b[0m=\u001b[35mNormal\u001b[0m \u001b[33mUnassigned_all_20ppm\u001b[0m=\u001b[1;36m0\u001b[0m\u001b[1;36m.1424\u001b[0m \u001b[33mUnassigned_20ppm\u001b[0m=\u001b[1;36m0\u001b[0m\u001b[1;36m.0416\u001b[0m\n",
       "\u001b[33mnum_unassigned_peaks_20ppm\u001b[0m=\u001b[1;36m44\u001b[0m \u001b[33mmax_unassigned_ab_20ppm\u001b[0m=\u001b[1;36m0\u001b[0m\u001b[1;36m.41\u001b[0m \u001b[33mtop_20_num_unassigned_peaks_20ppm\u001b[0m=\u001b[1;36m1\u001b[0m/\u001b[1;36m20\u001b[0m\n"
      ]
     },
     "metadata": {},
     "output_type": "display_data"
    },
    {
     "data": {
      "text/html": [
       "<pre style=\"white-space:pre;overflow-x:auto;line-height:normal;font-family:Menlo,'DejaVu Sans Mono',consolas,'Courier New',monospace\">Num peaks: <span style=\"color: #008080; text-decoration-color: #008080; font-weight: bold\">117</span>\n",
       "</pre>\n"
      ],
      "text/plain": [
       "Num peaks: \u001b[1;36m117\u001b[0m\n"
      ]
     },
     "metadata": {},
     "output_type": "display_data"
    },
    {
     "data": {
      "text/html": [
       "<pre style=\"white-space:pre;overflow-x:auto;line-height:normal;font-family:Menlo,'DejaVu Sans Mono',consolas,'Courier New',monospace\"><span style=\"color: #008080; text-decoration-color: #008080; font-weight: bold\">110.0712</span>        <span style=\"color: #008080; text-decoration-color: #008080; font-weight: bold\">259243.2</span>        <span style=\"color: #008000; text-decoration-color: #008000\">\"? 143/200\"</span>\n",
       "</pre>\n"
      ],
      "text/plain": [
       "\u001b[1;36m110.0712\u001b[0m        \u001b[1;36m259243.2\u001b[0m        \u001b[32m\"? 143/200\"\u001b[0m\n"
      ]
     },
     "metadata": {},
     "output_type": "display_data"
    },
    {
     "data": {
      "text/html": [
       "<pre style=\"white-space:pre;overflow-x:auto;line-height:normal;font-family:Menlo,'DejaVu Sans Mono',consolas,'Courier New',monospace\"><span style=\"color: #008080; text-decoration-color: #008080; font-weight: bold\">115.0864</span>        <span style=\"color: #008080; text-decoration-color: #008080; font-weight: bold\">97764.4</span> <span style=\"color: #008000; text-decoration-color: #008000\">\"a2/-1.6ppm 145/200\"</span>\n",
       "</pre>\n"
      ],
      "text/plain": [
       "\u001b[1;36m115.0864\u001b[0m        \u001b[1;36m97764.4\u001b[0m \u001b[32m\"a2/-1.6ppm 145/200\"\u001b[0m\n"
      ]
     },
     "metadata": {},
     "output_type": "display_data"
    },
    {
     "data": {
      "text/html": [
       "<pre style=\"white-space:pre;overflow-x:auto;line-height:normal;font-family:Menlo,'DejaVu Sans Mono',consolas,'Courier New',monospace\"><span style=\"color: #008080; text-decoration-color: #008080; font-weight: bold\">116.0704</span>        <span style=\"color: #008080; text-decoration-color: #008080; font-weight: bold\">26069.5</span> <span style=\"color: #008000; text-decoration-color: #008000\">\"? 80/200\"</span>\n",
       "</pre>\n"
      ],
      "text/plain": [
       "\u001b[1;36m116.0704\u001b[0m        \u001b[1;36m26069.5\u001b[0m \u001b[32m\"? 80/200\"\u001b[0m\n"
      ]
     },
     "metadata": {},
     "output_type": "display_data"
    },
    {
     "data": {
      "text/html": [
       "<pre style=\"white-space:pre;overflow-x:auto;line-height:normal;font-family:Menlo,'DejaVu Sans Mono',consolas,'Courier New',monospace\"><span style=\"color: #008080; text-decoration-color: #008080; font-weight: bold\">120.0806</span>        <span style=\"color: #008080; text-decoration-color: #008080; font-weight: bold\">208924.4</span>        <span style=\"color: #008000; text-decoration-color: #008000\">\"? 148/200\"</span>\n",
       "</pre>\n"
      ],
      "text/plain": [
       "\u001b[1;36m120.0806\u001b[0m        \u001b[1;36m208924.4\u001b[0m        \u001b[32m\"? 148/200\"\u001b[0m\n"
      ]
     },
     "metadata": {},
     "output_type": "display_data"
    },
    {
     "data": {
      "text/html": [
       "<pre style=\"white-space:pre;overflow-x:auto;line-height:normal;font-family:Menlo,'DejaVu Sans Mono',consolas,'Courier New',monospace\"><span style=\"color: #008080; text-decoration-color: #008080; font-weight: bold\">129.0657</span>        <span style=\"color: #008080; text-decoration-color: #008080; font-weight: bold\">25535.9</span> <span style=\"color: #008000; text-decoration-color: #008000\">\"Int/AG/-1.2ppm,Int/GA/-1.2ppm 86/200\"</span>\n",
       "</pre>\n"
      ],
      "text/plain": [
       "\u001b[1;36m129.0657\u001b[0m        \u001b[1;36m25535.9\u001b[0m \u001b[32m\"Int/AG/-1.2ppm,Int/GA/-1.2ppm 86/200\"\u001b[0m\n"
      ]
     },
     "metadata": {},
     "output_type": "display_data"
    },
    {
     "data": {
      "text/html": [
       "<pre style=\"white-space:pre;overflow-x:auto;line-height:normal;font-family:Menlo,'DejaVu Sans Mono',consolas,'Courier New',monospace\"><span style=\"color: #008080; text-decoration-color: #008080; font-weight: bold\">129.1021</span>        <span style=\"color: #008080; text-decoration-color: #008080; font-weight: bold\">361336.8</span>        <span style=\"color: #008000; text-decoration-color: #008000\">\"IKD/-1.1ppm,y1-H2O/-1.1ppm 172/200\"</span>\n",
       "</pre>\n"
      ],
      "text/plain": [
       "\u001b[1;36m129.1021\u001b[0m        \u001b[1;36m361336.8\u001b[0m        \u001b[32m\"IKD/-1.1ppm,y1-H2O/-1.1ppm 172/200\"\u001b[0m\n"
      ]
     },
     "metadata": {},
     "output_type": "display_data"
    },
    {
     "data": {
      "text/html": [
       "<pre style=\"white-space:pre;overflow-x:auto;line-height:normal;font-family:Menlo,'DejaVu Sans Mono',consolas,'Courier New',monospace\"><span style=\"color: #008080; text-decoration-color: #008080; font-weight: bold\">130.0860</span>        <span style=\"color: #008080; text-decoration-color: #008080; font-weight: bold\">120990.5</span>        <span style=\"color: #008000; text-decoration-color: #008000\">\"y1-NH3/-1.9ppm 123/200\"</span>\n",
       "</pre>\n"
      ],
      "text/plain": [
       "\u001b[1;36m130.0860\u001b[0m        \u001b[1;36m120990.5\u001b[0m        \u001b[32m\"y1-NH3/-1.9ppm 123/200\"\u001b[0m\n"
      ]
     },
     "metadata": {},
     "output_type": "display_data"
    },
    {
     "data": {
      "text/html": [
       "<pre style=\"white-space:pre;overflow-x:auto;line-height:normal;font-family:Menlo,'DejaVu Sans Mono',consolas,'Courier New',monospace\"><span style=\"color: #008080; text-decoration-color: #008080; font-weight: bold\">136.0754</span>        <span style=\"color: #008080; text-decoration-color: #008080; font-weight: bold\">401263.5</span>        <span style=\"color: #008000; text-decoration-color: #008000\">\"? 147/200\"</span>\n",
       "</pre>\n"
      ],
      "text/plain": [
       "\u001b[1;36m136.0754\u001b[0m        \u001b[1;36m401263.5\u001b[0m        \u001b[32m\"? 147/200\"\u001b[0m\n"
      ]
     },
     "metadata": {},
     "output_type": "display_data"
    },
    {
     "data": {
      "text/html": [
       "<pre style=\"white-space:pre;overflow-x:auto;line-height:normal;font-family:Menlo,'DejaVu Sans Mono',consolas,'Courier New',monospace\"><span style=\"color: #008080; text-decoration-color: #008080; font-weight: bold\">141.1019</span>        <span style=\"color: #008080; text-decoration-color: #008080; font-weight: bold\">54146.8</span> <span style=\"color: #008000; text-decoration-color: #008000\">\"? 113/200\"</span>\n",
       "</pre>\n"
      ],
      "text/plain": [
       "\u001b[1;36m141.1019\u001b[0m        \u001b[1;36m54146.8\u001b[0m \u001b[32m\"? 113/200\"\u001b[0m\n"
      ]
     },
     "metadata": {},
     "output_type": "display_data"
    },
    {
     "data": {
      "text/html": [
       "<pre style=\"white-space:pre;overflow-x:auto;line-height:normal;font-family:Menlo,'DejaVu Sans Mono',consolas,'Courier New',monospace\"><span style=\"color: #008080; text-decoration-color: #008080; font-weight: bold\">143.0812</span>        <span style=\"color: #008080; text-decoration-color: #008080; font-weight: bold\">259764.2</span>        <span style=\"color: #008000; text-decoration-color: #008000\">\"b2/-2.1ppm 173/200\"</span>\n",
       "</pre>\n"
      ],
      "text/plain": [
       "\u001b[1;36m143.0812\u001b[0m        \u001b[1;36m259764.2\u001b[0m        \u001b[32m\"b2/-2.1ppm 173/200\"\u001b[0m\n"
      ]
     },
     "metadata": {},
     "output_type": "display_data"
    },
    {
     "data": {
      "text/html": [
       "<pre style=\"white-space:pre;overflow-x:auto;line-height:normal;font-family:Menlo,'DejaVu Sans Mono',consolas,'Courier New',monospace\"><span style=\"color: #008080; text-decoration-color: #008080; font-weight: bold\">147.1125</span>        <span style=\"color: #008080; text-decoration-color: #008080; font-weight: bold\">239262.1</span>        <span style=\"color: #008000; text-decoration-color: #008000\">\"y1/-2.1ppm 166/200\"</span>\n",
       "</pre>\n"
      ],
      "text/plain": [
       "\u001b[1;36m147.1125\u001b[0m        \u001b[1;36m239262.1\u001b[0m        \u001b[32m\"y1/-2.1ppm 166/200\"\u001b[0m\n"
      ]
     },
     "metadata": {},
     "output_type": "display_data"
    },
    {
     "data": {
      "text/html": [
       "<pre style=\"white-space:pre;overflow-x:auto;line-height:normal;font-family:Menlo,'DejaVu Sans Mono',consolas,'Courier New',monospace\"><span style=\"color: #008080; text-decoration-color: #008080; font-weight: bold\">155.0811</span>        <span style=\"color: #008080; text-decoration-color: #008080; font-weight: bold\">52239.2</span> <span style=\"color: #008000; text-decoration-color: #008000\">\"? 109/200\"</span>\n",
       "</pre>\n"
      ],
      "text/plain": [
       "\u001b[1;36m155.0811\u001b[0m        \u001b[1;36m52239.2\u001b[0m \u001b[32m\"? 109/200\"\u001b[0m\n"
      ]
     },
     "metadata": {},
     "output_type": "display_data"
    },
    {
     "data": {
      "text/html": [
       "<pre style=\"white-space:pre;overflow-x:auto;line-height:normal;font-family:Menlo,'DejaVu Sans Mono',consolas,'Courier New',monospace\"><span style=\"color: #008080; text-decoration-color: #008080; font-weight: bold\">169.0969</span>        <span style=\"color: #008080; text-decoration-color: #008080; font-weight: bold\">272722.9</span>        <span style=\"color: #008000; text-decoration-color: #008000\">\"? 174/200\"</span>\n",
       "</pre>\n"
      ],
      "text/plain": [
       "\u001b[1;36m169.0969\u001b[0m        \u001b[1;36m272722.9\u001b[0m        \u001b[32m\"? 174/200\"\u001b[0m\n"
      ]
     },
     "metadata": {},
     "output_type": "display_data"
    },
    {
     "data": {
      "text/html": [
       "<pre style=\"white-space:pre;overflow-x:auto;line-height:normal;font-family:Menlo,'DejaVu Sans Mono',consolas,'Courier New',monospace\"><span style=\"color: #008080; text-decoration-color: #008080; font-weight: bold\">173.1282</span>        <span style=\"color: #008080; text-decoration-color: #008080; font-weight: bold\">164845.6</span>        <span style=\"color: #008000; text-decoration-color: #008000\">\"? 113/200\"</span>\n",
       "</pre>\n"
      ],
      "text/plain": [
       "\u001b[1;36m173.1282\u001b[0m        \u001b[1;36m164845.6\u001b[0m        \u001b[32m\"? 113/200\"\u001b[0m\n"
      ]
     },
     "metadata": {},
     "output_type": "display_data"
    },
    {
     "data": {
      "text/html": [
       "<pre style=\"white-space:pre;overflow-x:auto;line-height:normal;font-family:Menlo,'DejaVu Sans Mono',consolas,'Courier New',monospace\"><span style=\"color: #008080; text-decoration-color: #008080; font-weight: bold\">175.1187</span>        <span style=\"color: #008080; text-decoration-color: #008080; font-weight: bold\">257521.5</span>        <span style=\"color: #008000; text-decoration-color: #008000\">\"IKF/-1.4ppm 148/200\"</span>\n",
       "</pre>\n"
      ],
      "text/plain": [
       "\u001b[1;36m175.1187\u001b[0m        \u001b[1;36m257521.5\u001b[0m        \u001b[32m\"IKF/-1.4ppm 148/200\"\u001b[0m\n"
      ]
     },
     "metadata": {},
     "output_type": "display_data"
    },
    {
     "data": {
      "text/html": [
       "<pre style=\"white-space:pre;overflow-x:auto;line-height:normal;font-family:Menlo,'DejaVu Sans Mono',consolas,'Courier New',monospace\"><span style=\"color: #008080; text-decoration-color: #008080; font-weight: bold\">183.1490</span>        <span style=\"color: #008080; text-decoration-color: #008080; font-weight: bold\">72741.8</span> <span style=\"color: #008000; text-decoration-color: #008000\">\"? 93/200\"</span>\n",
       "</pre>\n"
      ],
      "text/plain": [
       "\u001b[1;36m183.1490\u001b[0m        \u001b[1;36m72741.8\u001b[0m \u001b[32m\"? 93/200\"\u001b[0m\n"
      ]
     },
     "metadata": {},
     "output_type": "display_data"
    },
    {
     "data": {
      "text/html": [
       "<pre style=\"white-space:pre;overflow-x:auto;line-height:normal;font-family:Menlo,'DejaVu Sans Mono',consolas,'Courier New',monospace\"><span style=\"color: #008080; text-decoration-color: #008080; font-weight: bold\">201.1230</span>        <span style=\"color: #008080; text-decoration-color: #008080; font-weight: bold\">103584.8</span>        <span style=\"color: #008000; text-decoration-color: #008000\">\"y2-NH3/-1.8ppm 109/200\"</span>\n",
       "</pre>\n"
      ],
      "text/plain": [
       "\u001b[1;36m201.1230\u001b[0m        \u001b[1;36m103584.8\u001b[0m        \u001b[32m\"y2-NH3/-1.8ppm 109/200\"\u001b[0m\n"
      ]
     },
     "metadata": {},
     "output_type": "display_data"
    },
    {
     "data": {
      "text/html": [
       "<pre style=\"white-space:pre;overflow-x:auto;line-height:normal;font-family:Menlo,'DejaVu Sans Mono',consolas,'Courier New',monospace\"><span style=\"color: #008080; text-decoration-color: #008080; font-weight: bold\">212.1027</span>        <span style=\"color: #008080; text-decoration-color: #008080; font-weight: bold\">28649.9</span> <span style=\"color: #008000; text-decoration-color: #008000\">\"? 91/200\"</span>\n",
       "</pre>\n"
      ],
      "text/plain": [
       "\u001b[1;36m212.1027\u001b[0m        \u001b[1;36m28649.9\u001b[0m \u001b[32m\"? 91/200\"\u001b[0m\n"
      ]
     },
     "metadata": {},
     "output_type": "display_data"
    },
    {
     "data": {
      "text/html": [
       "<pre style=\"white-space:pre;overflow-x:auto;line-height:normal;font-family:Menlo,'DejaVu Sans Mono',consolas,'Courier New',monospace\"><span style=\"color: #008080; text-decoration-color: #008080; font-weight: bold\">213.0865</span>        <span style=\"color: #008080; text-decoration-color: #008080; font-weight: bold\">47385.4</span> <span style=\"color: #008000; text-decoration-color: #008000\">\"? 85/200\"</span>\n",
       "</pre>\n"
      ],
      "text/plain": [
       "\u001b[1;36m213.0865\u001b[0m        \u001b[1;36m47385.4\u001b[0m \u001b[32m\"? 85/200\"\u001b[0m\n"
      ]
     },
     "metadata": {},
     "output_type": "display_data"
    },
    {
     "data": {
      "text/html": [
       "<pre style=\"white-space:pre;overflow-x:auto;line-height:normal;font-family:Menlo,'DejaVu Sans Mono',consolas,'Courier New',monospace\"><span style=\"color: #008080; text-decoration-color: #008080; font-weight: bold\">214.1182</span>        <span style=\"color: #008080; text-decoration-color: #008080; font-weight: bold\">958104.7</span>        <span style=\"color: #008000; text-decoration-color: #008000\">\"b3/-1.9ppm 198/200\"</span>\n",
       "</pre>\n"
      ],
      "text/plain": [
       "\u001b[1;36m214.1182\u001b[0m        \u001b[1;36m958104.7\u001b[0m        \u001b[32m\"b3/-1.9ppm 198/200\"\u001b[0m\n"
      ]
     },
     "metadata": {},
     "output_type": "display_data"
    },
    {
     "data": {
      "text/html": [
       "<pre style=\"white-space:pre;overflow-x:auto;line-height:normal;font-family:Menlo,'DejaVu Sans Mono',consolas,'Courier New',monospace\"><span style=\"color: #008080; text-decoration-color: #008080; font-weight: bold\">215.1211</span>        <span style=\"color: #008080; text-decoration-color: #008080; font-weight: bold\">26387.6</span> <span style=\"color: #008000; text-decoration-color: #008000\">\"b3+i/-1.4ppm 83/200\"</span>\n",
       "</pre>\n"
      ],
      "text/plain": [
       "\u001b[1;36m215.1211\u001b[0m        \u001b[1;36m26387.6\u001b[0m \u001b[32m\"b3+i/-1.4ppm 83/200\"\u001b[0m\n"
      ]
     },
     "metadata": {},
     "output_type": "display_data"
    },
    {
     "data": {
      "text/html": [
       "<pre style=\"white-space:pre;overflow-x:auto;line-height:normal;font-family:Menlo,'DejaVu Sans Mono',consolas,'Courier New',monospace\"><span style=\"color: #008080; text-decoration-color: #008080; font-weight: bold\">218.1496</span>        <span style=\"color: #008080; text-decoration-color: #008080; font-weight: bold\">44120.9</span> <span style=\"color: #008000; text-decoration-color: #008000\">\"y2/-1.5ppm 111/200\"</span>\n",
       "</pre>\n"
      ],
      "text/plain": [
       "\u001b[1;36m218.1496\u001b[0m        \u001b[1;36m44120.9\u001b[0m \u001b[32m\"y2/-1.5ppm 111/200\"\u001b[0m\n"
      ]
     },
     "metadata": {},
     "output_type": "display_data"
    },
    {
     "data": {
      "text/html": [
       "<pre style=\"white-space:pre;overflow-x:auto;line-height:normal;font-family:Menlo,'DejaVu Sans Mono',consolas,'Courier New',monospace\"><span style=\"color: #008080; text-decoration-color: #008080; font-weight: bold\">226.1184</span>        <span style=\"color: #008080; text-decoration-color: #008080; font-weight: bold\">53687.9</span> <span style=\"color: #008000; text-decoration-color: #008000\">\"? 96/200\"</span>\n",
       "</pre>\n"
      ],
      "text/plain": [
       "\u001b[1;36m226.1184\u001b[0m        \u001b[1;36m53687.9\u001b[0m \u001b[32m\"? 96/200\"\u001b[0m\n"
      ]
     },
     "metadata": {},
     "output_type": "display_data"
    },
    {
     "data": {
      "text/html": [
       "<pre style=\"white-space:pre;overflow-x:auto;line-height:normal;font-family:Menlo,'DejaVu Sans Mono',consolas,'Courier New',monospace\"><span style=\"color: #008080; text-decoration-color: #008080; font-weight: bold\">240.1338</span>        <span style=\"color: #008080; text-decoration-color: #008080; font-weight: bold\">363209.3</span>        <span style=\"color: #008000; text-decoration-color: #008000\">\"y3-H2O-NH3/-1.9ppm 182/200\"</span>\n",
       "</pre>\n"
      ],
      "text/plain": [
       "\u001b[1;36m240.1338\u001b[0m        \u001b[1;36m363209.3\u001b[0m        \u001b[32m\"y3-H2O-NH3/-1.9ppm 182/200\"\u001b[0m\n"
      ]
     },
     "metadata": {},
     "output_type": "display_data"
    },
    {
     "data": {
      "text/html": [
       "<pre style=\"white-space:pre;overflow-x:auto;line-height:normal;font-family:Menlo,'DejaVu Sans Mono',consolas,'Courier New',monospace\"><span style=\"color: #008080; text-decoration-color: #008080; font-weight: bold\">242.1130</span>        <span style=\"color: #008080; text-decoration-color: #008080; font-weight: bold\">40070.1</span> <span style=\"color: #008000; text-decoration-color: #008000\">\"? 109/200\"</span>\n",
       "</pre>\n"
      ],
      "text/plain": [
       "\u001b[1;36m242.1130\u001b[0m        \u001b[1;36m40070.1\u001b[0m \u001b[32m\"? 109/200\"\u001b[0m\n"
      ]
     },
     "metadata": {},
     "output_type": "display_data"
    },
    {
     "data": {
      "text/html": [
       "<pre style=\"white-space:pre;overflow-x:auto;line-height:normal;font-family:Menlo,'DejaVu Sans Mono',consolas,'Courier New',monospace\"><span style=\"color: #008080; text-decoration-color: #008080; font-weight: bold\">244.1652</span>        <span style=\"color: #008080; text-decoration-color: #008080; font-weight: bold\">50732.7</span> <span style=\"color: #008000; text-decoration-color: #008000\">\"? 83/200\"</span>\n",
       "</pre>\n"
      ],
      "text/plain": [
       "\u001b[1;36m244.1652\u001b[0m        \u001b[1;36m50732.7\u001b[0m \u001b[32m\"? 83/200\"\u001b[0m\n"
      ]
     },
     "metadata": {},
     "output_type": "display_data"
    },
    {
     "data": {
      "text/html": [
       "<pre style=\"white-space:pre;overflow-x:auto;line-height:normal;font-family:Menlo,'DejaVu Sans Mono',consolas,'Courier New',monospace\"><span style=\"color: #008080; text-decoration-color: #008080; font-weight: bold\">257.1238</span>        <span style=\"color: #008080; text-decoration-color: #008080; font-weight: bold\">36446.7</span> <span style=\"color: #008000; text-decoration-color: #008000\">\"? 92/200\"</span>\n",
       "</pre>\n"
      ],
      "text/plain": [
       "\u001b[1;36m257.1238\u001b[0m        \u001b[1;36m36446.7\u001b[0m \u001b[32m\"? 92/200\"\u001b[0m\n"
      ]
     },
     "metadata": {},
     "output_type": "display_data"
    },
    {
     "data": {
      "text/html": [
       "<pre style=\"white-space:pre;overflow-x:auto;line-height:normal;font-family:Menlo,'DejaVu Sans Mono',consolas,'Courier New',monospace\"><span style=\"color: #008080; text-decoration-color: #008080; font-weight: bold\">257.1605</span>        <span style=\"color: #008080; text-decoration-color: #008080; font-weight: bold\">293322.1</span>        <span style=\"color: #008000; text-decoration-color: #008000\">\"y3-H2O/-1.2ppm,a4/-1.2ppm 182/200\"</span>\n",
       "</pre>\n"
      ],
      "text/plain": [
       "\u001b[1;36m257.1605\u001b[0m        \u001b[1;36m293322.1\u001b[0m        \u001b[32m\"y3-H2O/-1.2ppm,a4/-1.2ppm 182/200\"\u001b[0m\n"
      ]
     },
     "metadata": {},
     "output_type": "display_data"
    },
    {
     "data": {
      "text/html": [
       "<pre style=\"white-space:pre;overflow-x:auto;line-height:normal;font-family:Menlo,'DejaVu Sans Mono',consolas,'Courier New',monospace\"><span style=\"color: #008080; text-decoration-color: #008080; font-weight: bold\">271.1395</span>        <span style=\"color: #008080; text-decoration-color: #008080; font-weight: bold\">19571.4</span> <span style=\"color: #008000; text-decoration-color: #008000\">\"? 80/200\"</span>\n",
       "</pre>\n"
      ],
      "text/plain": [
       "\u001b[1;36m271.1395\u001b[0m        \u001b[1;36m19571.4\u001b[0m \u001b[32m\"? 80/200\"\u001b[0m\n"
      ]
     },
     "metadata": {},
     "output_type": "display_data"
    },
    {
     "data": {
      "text/html": [
       "<pre style=\"white-space:pre;overflow-x:auto;line-height:normal;font-family:Menlo,'DejaVu Sans Mono',consolas,'Courier New',monospace\"><span style=\"color: #008080; text-decoration-color: #008080; font-weight: bold\">275.1708</span>        <span style=\"color: #008080; text-decoration-color: #008080; font-weight: bold\">242734.1</span>        <span style=\"color: #008000; text-decoration-color: #008000\">\"y3/-2.1ppm 179/200\"</span>\n",
       "</pre>\n"
      ],
      "text/plain": [
       "\u001b[1;36m275.1708\u001b[0m        \u001b[1;36m242734.1\u001b[0m        \u001b[32m\"y3/-2.1ppm 179/200\"\u001b[0m\n"
      ]
     },
     "metadata": {},
     "output_type": "display_data"
    },
    {
     "data": {
      "text/html": [
       "<pre style=\"white-space:pre;overflow-x:auto;line-height:normal;font-family:Menlo,'DejaVu Sans Mono',consolas,'Courier New',monospace\"><span style=\"color: #008080; text-decoration-color: #008080; font-weight: bold\">283.1403</span>        <span style=\"color: #008080; text-decoration-color: #008080; font-weight: bold\">32984.4</span> <span style=\"color: #008000; text-decoration-color: #008000\">\"? 99/200\"</span>\n",
       "</pre>\n"
      ],
      "text/plain": [
       "\u001b[1;36m283.1403\u001b[0m        \u001b[1;36m32984.4\u001b[0m \u001b[32m\"? 99/200\"\u001b[0m\n"
      ]
     },
     "metadata": {},
     "output_type": "display_data"
    },
    {
     "data": {
      "text/html": [
       "<pre style=\"white-space:pre;overflow-x:auto;line-height:normal;font-family:Menlo,'DejaVu Sans Mono',consolas,'Courier New',monospace\"><span style=\"color: #008080; text-decoration-color: #008080; font-weight: bold\">283.1759</span>        <span style=\"color: #008080; text-decoration-color: #008080; font-weight: bold\">28564.5</span> <span style=\"color: #008000; text-decoration-color: #008000\">\"? 95/200\"</span>\n",
       "</pre>\n"
      ],
      "text/plain": [
       "\u001b[1;36m283.1759\u001b[0m        \u001b[1;36m28564.5\u001b[0m \u001b[32m\"? 95/200\"\u001b[0m\n"
      ]
     },
     "metadata": {},
     "output_type": "display_data"
    },
    {
     "data": {
      "text/html": [
       "<pre style=\"white-space:pre;overflow-x:auto;line-height:normal;font-family:Menlo,'DejaVu Sans Mono',consolas,'Courier New',monospace\"><span style=\"color: #008080; text-decoration-color: #008080; font-weight: bold\">285.1553</span>        <span style=\"color: #008080; text-decoration-color: #008080; font-weight: bold\">1224329.9</span>       <span style=\"color: #008000; text-decoration-color: #008000\">\"b4/-1.5ppm,y3-H2O+CO/-1.5ppm 199/200\"</span>\n",
       "</pre>\n"
      ],
      "text/plain": [
       "\u001b[1;36m285.1553\u001b[0m        \u001b[1;36m1224329.9\u001b[0m       \u001b[32m\"b4/-1.5ppm,y3-H2O+CO/-1.5ppm 199/200\"\u001b[0m\n"
      ]
     },
     "metadata": {},
     "output_type": "display_data"
    },
    {
     "data": {
      "text/html": [
       "<pre style=\"white-space:pre;overflow-x:auto;line-height:normal;font-family:Menlo,'DejaVu Sans Mono',consolas,'Courier New',monospace\"><span style=\"color: #008080; text-decoration-color: #008080; font-weight: bold\">286.1584</span>        <span style=\"color: #008080; text-decoration-color: #008080; font-weight: bold\">73896.6</span> <span style=\"color: #008000; text-decoration-color: #008000\">\"b4+i/-0.4ppm,y3-H2O+CO+i/-0.4ppm 121/200\"</span>\n",
       "</pre>\n"
      ],
      "text/plain": [
       "\u001b[1;36m286.1584\u001b[0m        \u001b[1;36m73896.6\u001b[0m \u001b[32m\"b4+i/-0.4ppm,y3-H2O+CO+i/-0.4ppm 121/200\"\u001b[0m\n"
      ]
     },
     "metadata": {},
     "output_type": "display_data"
    },
    {
     "data": {
      "text/html": [
       "<pre style=\"white-space:pre;overflow-x:auto;line-height:normal;font-family:Menlo,'DejaVu Sans Mono',consolas,'Courier New',monospace\"><span style=\"color: #008080; text-decoration-color: #008080; font-weight: bold\">297.1552</span>        <span style=\"color: #008080; text-decoration-color: #008080; font-weight: bold\">20175.3</span> <span style=\"color: #008000; text-decoration-color: #008000\">\"? 83/200\"</span>\n",
       "</pre>\n"
      ],
      "text/plain": [
       "\u001b[1;36m297.1552\u001b[0m        \u001b[1;36m20175.3\u001b[0m \u001b[32m\"? 83/200\"\u001b[0m\n"
      ]
     },
     "metadata": {},
     "output_type": "display_data"
    },
    {
     "data": {
      "text/html": [
       "<pre style=\"white-space:pre;overflow-x:auto;line-height:normal;font-family:Menlo,'DejaVu Sans Mono',consolas,'Courier New',monospace\"><span style=\"color: #008080; text-decoration-color: #008080; font-weight: bold\">311.1708</span>        <span style=\"color: #008080; text-decoration-color: #008080; font-weight: bold\">775584.9</span>        <span style=\"color: #008000; text-decoration-color: #008000\">\"y4-H2O-NH3/-1.9ppm 196/200\"</span>\n",
       "</pre>\n"
      ],
      "text/plain": [
       "\u001b[1;36m311.1708\u001b[0m        \u001b[1;36m775584.9\u001b[0m        \u001b[32m\"y4-H2O-NH3/-1.9ppm 196/200\"\u001b[0m\n"
      ]
     },
     "metadata": {},
     "output_type": "display_data"
    },
    {
     "data": {
      "text/html": [
       "<pre style=\"white-space:pre;overflow-x:auto;line-height:normal;font-family:Menlo,'DejaVu Sans Mono',consolas,'Courier New',monospace\"><span style=\"color: #008080; text-decoration-color: #008080; font-weight: bold\">312.1742</span>        <span style=\"color: #008080; text-decoration-color: #008080; font-weight: bold\">42391.8</span> <span style=\"color: #008000; text-decoration-color: #008000\">\"y4-H2O-NH3+i/-0.1ppm 98/200\"</span>\n",
       "</pre>\n"
      ],
      "text/plain": [
       "\u001b[1;36m312.1742\u001b[0m        \u001b[1;36m42391.8\u001b[0m \u001b[32m\"y4-H2O-NH3+i/-0.1ppm 98/200\"\u001b[0m\n"
      ]
     },
     "metadata": {},
     "output_type": "display_data"
    },
    {
     "data": {
      "text/html": [
       "<pre style=\"white-space:pre;overflow-x:auto;line-height:normal;font-family:Menlo,'DejaVu Sans Mono',consolas,'Courier New',monospace\"><span style=\"color: #008080; text-decoration-color: #008080; font-weight: bold\">313.1502</span>        <span style=\"color: #008080; text-decoration-color: #008080; font-weight: bold\">95582.2</span> <span style=\"color: #008000; text-decoration-color: #008000\">\"? 142/200\"</span>\n",
       "</pre>\n"
      ],
      "text/plain": [
       "\u001b[1;36m313.1502\u001b[0m        \u001b[1;36m95582.2\u001b[0m \u001b[32m\"? 142/200\"\u001b[0m\n"
      ]
     },
     "metadata": {},
     "output_type": "display_data"
    },
    {
     "data": {
      "text/html": [
       "<pre style=\"white-space:pre;overflow-x:auto;line-height:normal;font-family:Menlo,'DejaVu Sans Mono',consolas,'Courier New',monospace\"><span style=\"color: #008080; text-decoration-color: #008080; font-weight: bold\">328.1613</span>        <span style=\"color: #008080; text-decoration-color: #008080; font-weight: bold\">41814.3</span> <span style=\"color: #008000; text-decoration-color: #008000\">\"? 105/200\"</span>\n",
       "</pre>\n"
      ],
      "text/plain": [
       "\u001b[1;36m328.1613\u001b[0m        \u001b[1;36m41814.3\u001b[0m \u001b[32m\"? 105/200\"\u001b[0m\n"
      ]
     },
     "metadata": {},
     "output_type": "display_data"
    },
    {
     "data": {
      "text/html": [
       "<pre style=\"white-space:pre;overflow-x:auto;line-height:normal;font-family:Menlo,'DejaVu Sans Mono',consolas,'Courier New',monospace\"><span style=\"color: #008080; text-decoration-color: #008080; font-weight: bold\">328.1971</span>        <span style=\"color: #008080; text-decoration-color: #008080; font-weight: bold\">405507.9</span>        <span style=\"color: #008000; text-decoration-color: #008000\">\"y4-H2O/-2.5ppm,a5/-2.5ppm 185/200\"</span>\n",
       "</pre>\n"
      ],
      "text/plain": [
       "\u001b[1;36m328.1971\u001b[0m        \u001b[1;36m405507.9\u001b[0m        \u001b[32m\"y4-H2O/-2.5ppm,a5/-2.5ppm 185/200\"\u001b[0m\n"
      ]
     },
     "metadata": {},
     "output_type": "display_data"
    },
    {
     "data": {
      "text/html": [
       "<pre style=\"white-space:pre;overflow-x:auto;line-height:normal;font-family:Menlo,'DejaVu Sans Mono',consolas,'Courier New',monospace\"><span style=\"color: #008080; text-decoration-color: #008080; font-weight: bold\">342.1762</span>        <span style=\"color: #008080; text-decoration-color: #008080; font-weight: bold\">33653.3</span> <span style=\"color: #008000; text-decoration-color: #008000\">\"? 98/200\"</span>\n",
       "</pre>\n"
      ],
      "text/plain": [
       "\u001b[1;36m342.1762\u001b[0m        \u001b[1;36m33653.3\u001b[0m \u001b[32m\"? 98/200\"\u001b[0m\n"
      ]
     },
     "metadata": {},
     "output_type": "display_data"
    },
    {
     "data": {
      "text/html": [
       "<pre style=\"white-space:pre;overflow-x:auto;line-height:normal;font-family:Menlo,'DejaVu Sans Mono',consolas,'Courier New',monospace\"><span style=\"color: #008080; text-decoration-color: #008080; font-weight: bold\">346.2085</span>        <span style=\"color: #008080; text-decoration-color: #008080; font-weight: bold\">147454.5</span>        <span style=\"color: #008000; text-decoration-color: #008000\">\"y4/0.0ppm 159/200\"</span>\n",
       "</pre>\n"
      ],
      "text/plain": [
       "\u001b[1;36m346.2085\u001b[0m        \u001b[1;36m147454.5\u001b[0m        \u001b[32m\"y4/0.0ppm 159/200\"\u001b[0m\n"
      ]
     },
     "metadata": {},
     "output_type": "display_data"
    },
    {
     "data": {
      "text/html": [
       "<pre style=\"white-space:pre;overflow-x:auto;line-height:normal;font-family:Menlo,'DejaVu Sans Mono',consolas,'Courier New',monospace\"><span style=\"color: #008080; text-decoration-color: #008080; font-weight: bold\">354.1762</span>        <span style=\"color: #008080; text-decoration-color: #008080; font-weight: bold\">22267.2</span> <span style=\"color: #008000; text-decoration-color: #008000\">\"? 82/200\"</span>\n",
       "</pre>\n"
      ],
      "text/plain": [
       "\u001b[1;36m354.1762\u001b[0m        \u001b[1;36m22267.2\u001b[0m \u001b[32m\"? 82/200\"\u001b[0m\n"
      ]
     },
     "metadata": {},
     "output_type": "display_data"
    },
    {
     "data": {
      "text/html": [
       "<pre style=\"white-space:pre;overflow-x:auto;line-height:normal;font-family:Menlo,'DejaVu Sans Mono',consolas,'Courier New',monospace\"><span style=\"color: #008080; text-decoration-color: #008080; font-weight: bold\">356.1922</span>        <span style=\"color: #008080; text-decoration-color: #008080; font-weight: bold\">1600454.8</span>       <span style=\"color: #008000; text-decoration-color: #008000\">\"b5/-1.8ppm,y4-H2O+CO/-1.8ppm 198/200\"</span>\n",
       "</pre>\n"
      ],
      "text/plain": [
       "\u001b[1;36m356.1922\u001b[0m        \u001b[1;36m1600454.8\u001b[0m       \u001b[32m\"b5/-1.8ppm,y4-H2O+CO/-1.8ppm 198/200\"\u001b[0m\n"
      ]
     },
     "metadata": {},
     "output_type": "display_data"
    },
    {
     "data": {
      "text/html": [
       "<pre style=\"white-space:pre;overflow-x:auto;line-height:normal;font-family:Menlo,'DejaVu Sans Mono',consolas,'Courier New',monospace\"><span style=\"color: #008080; text-decoration-color: #008080; font-weight: bold\">357.1939</span>        <span style=\"color: #008080; text-decoration-color: #008080; font-weight: bold\">149618.5</span>        <span style=\"color: #008000; text-decoration-color: #008000\">\"b5+i/-4.8ppm,y4-H2O+CO+i/-4.8ppm 143/200\"</span>\n",
       "</pre>\n"
      ],
      "text/plain": [
       "\u001b[1;36m357.1939\u001b[0m        \u001b[1;36m149618.5\u001b[0m        \u001b[32m\"b5+i/-4.8ppm,y4-H2O+CO+i/-4.8ppm 143/200\"\u001b[0m\n"
      ]
     },
     "metadata": {},
     "output_type": "display_data"
    },
    {
     "data": {
      "text/html": [
       "<pre style=\"white-space:pre;overflow-x:auto;line-height:normal;font-family:Menlo,'DejaVu Sans Mono',consolas,'Courier New',monospace\"><span style=\"color: #008080; text-decoration-color: #008080; font-weight: bold\">367.1713</span>        <span style=\"color: #008080; text-decoration-color: #008080; font-weight: bold\">27548.3</span> <span style=\"color: #008000; text-decoration-color: #008000\">\"? 86/200\"</span>\n",
       "</pre>\n"
      ],
      "text/plain": [
       "\u001b[1;36m367.1713\u001b[0m        \u001b[1;36m27548.3\u001b[0m \u001b[32m\"? 86/200\"\u001b[0m\n"
      ]
     },
     "metadata": {},
     "output_type": "display_data"
    },
    {
     "data": {
      "text/html": [
       "<pre style=\"white-space:pre;overflow-x:auto;line-height:normal;font-family:Menlo,'DejaVu Sans Mono',consolas,'Courier New',monospace\"><span style=\"color: #008080; text-decoration-color: #008080; font-weight: bold\">368.1925</span>        <span style=\"color: #008080; text-decoration-color: #008080; font-weight: bold\">46015.5</span> <span style=\"color: #008000; text-decoration-color: #008000\">\"? 114/200\"</span>\n",
       "</pre>\n"
      ],
      "text/plain": [
       "\u001b[1;36m368.1925\u001b[0m        \u001b[1;36m46015.5\u001b[0m \u001b[32m\"? 114/200\"\u001b[0m\n"
      ]
     },
     "metadata": {},
     "output_type": "display_data"
    },
    {
     "data": {
      "text/html": [
       "<pre style=\"white-space:pre;overflow-x:auto;line-height:normal;font-family:Menlo,'DejaVu Sans Mono',consolas,'Courier New',monospace\"><span style=\"color: #008080; text-decoration-color: #008080; font-weight: bold\">382.2078</span>        <span style=\"color: #008080; text-decoration-color: #008080; font-weight: bold\">731886.0</span>        <span style=\"color: #008000; text-decoration-color: #008000\">\"? 195/200\"</span>\n",
       "</pre>\n"
      ],
      "text/plain": [
       "\u001b[1;36m382.2078\u001b[0m        \u001b[1;36m731886.0\u001b[0m        \u001b[32m\"? 195/200\"\u001b[0m\n"
      ]
     },
     "metadata": {},
     "output_type": "display_data"
    },
    {
     "data": {
      "text/html": [
       "<pre style=\"white-space:pre;overflow-x:auto;line-height:normal;font-family:Menlo,'DejaVu Sans Mono',consolas,'Courier New',monospace\"><span style=\"color: #008080; text-decoration-color: #008080; font-weight: bold\">383.2103</span>        <span style=\"color: #008080; text-decoration-color: #008080; font-weight: bold\">62534.8</span> <span style=\"color: #008000; text-decoration-color: #008000\">\"? 117/200\"</span>\n",
       "</pre>\n"
      ],
      "text/plain": [
       "\u001b[1;36m383.2103\u001b[0m        \u001b[1;36m62534.8\u001b[0m \u001b[32m\"? 117/200\"\u001b[0m\n"
      ]
     },
     "metadata": {},
     "output_type": "display_data"
    },
    {
     "data": {
      "text/html": [
       "<pre style=\"white-space:pre;overflow-x:auto;line-height:normal;font-family:Menlo,'DejaVu Sans Mono',consolas,'Courier New',monospace\"><span style=\"color: #008080; text-decoration-color: #008080; font-weight: bold\">384.1872</span>        <span style=\"color: #008080; text-decoration-color: #008080; font-weight: bold\">44375.8</span> <span style=\"color: #008000; text-decoration-color: #008000\">\"? 112/200\"</span>\n",
       "</pre>\n"
      ],
      "text/plain": [
       "\u001b[1;36m384.1872\u001b[0m        \u001b[1;36m44375.8\u001b[0m \u001b[32m\"? 112/200\"\u001b[0m\n"
      ]
     },
     "metadata": {},
     "output_type": "display_data"
    },
    {
     "data": {
      "text/html": [
       "<pre style=\"white-space:pre;overflow-x:auto;line-height:normal;font-family:Menlo,'DejaVu Sans Mono',consolas,'Courier New',monospace\"><span style=\"color: #008080; text-decoration-color: #008080; font-weight: bold\">399.2354</span>        <span style=\"color: #008080; text-decoration-color: #008080; font-weight: bold\">308594.3</span>        <span style=\"color: #008000; text-decoration-color: #008000\">\"a6/0.9ppm 181/200\"</span>\n",
       "</pre>\n"
      ],
      "text/plain": [
       "\u001b[1;36m399.2354\u001b[0m        \u001b[1;36m308594.3\u001b[0m        \u001b[32m\"a6/0.9ppm 181/200\"\u001b[0m\n"
      ]
     },
     "metadata": {},
     "output_type": "display_data"
    },
    {
     "data": {
      "text/html": [
       "<pre style=\"white-space:pre;overflow-x:auto;line-height:normal;font-family:Menlo,'DejaVu Sans Mono',consolas,'Courier New',monospace\"><span style=\"color: #008080; text-decoration-color: #008080; font-weight: bold\">403.2296</span>        <span style=\"color: #008080; text-decoration-color: #008080; font-weight: bold\">495643.6</span>        <span style=\"color: #008000; text-decoration-color: #008000\">\"y5/-0.9ppm 193/200\"</span>\n",
       "</pre>\n"
      ],
      "text/plain": [
       "\u001b[1;36m403.2296\u001b[0m        \u001b[1;36m495643.6\u001b[0m        \u001b[32m\"y5/-0.9ppm 193/200\"\u001b[0m\n"
      ]
     },
     "metadata": {},
     "output_type": "display_data"
    },
    {
     "data": {
      "text/html": [
       "<pre style=\"white-space:pre;overflow-x:auto;line-height:normal;font-family:Menlo,'DejaVu Sans Mono',consolas,'Courier New',monospace\"><span style=\"color: #008080; text-decoration-color: #008080; font-weight: bold\">404.2324</span>        <span style=\"color: #008080; text-decoration-color: #008080; font-weight: bold\">30190.2</span> <span style=\"color: #008000; text-decoration-color: #008000\">\"y5+i/-0.7ppm 84/200\"</span>\n",
       "</pre>\n"
      ],
      "text/plain": [
       "\u001b[1;36m404.2324\u001b[0m        \u001b[1;36m30190.2\u001b[0m \u001b[32m\"y5+i/-0.7ppm 84/200\"\u001b[0m\n"
      ]
     },
     "metadata": {},
     "output_type": "display_data"
    },
    {
     "data": {
      "text/html": [
       "<pre style=\"white-space:pre;overflow-x:auto;line-height:normal;font-family:Menlo,'DejaVu Sans Mono',consolas,'Courier New',monospace\"><span style=\"color: #008080; text-decoration-color: #008080; font-weight: bold\">409.2186</span>        <span style=\"color: #008080; text-decoration-color: #008080; font-weight: bold\">25666.3</span> <span style=\"color: #008000; text-decoration-color: #008000\">\"b6-H2O/-1.9ppm 89/200\"</span>\n",
       "</pre>\n"
      ],
      "text/plain": [
       "\u001b[1;36m409.2186\u001b[0m        \u001b[1;36m25666.3\u001b[0m \u001b[32m\"b6-H2O/-1.9ppm 89/200\"\u001b[0m\n"
      ]
     },
     "metadata": {},
     "output_type": "display_data"
    },
    {
     "data": {
      "text/html": [
       "<pre style=\"white-space:pre;overflow-x:auto;line-height:normal;font-family:Menlo,'DejaVu Sans Mono',consolas,'Courier New',monospace\"><span style=\"color: #008080; text-decoration-color: #008080; font-weight: bold\">413.2137</span>        <span style=\"color: #008080; text-decoration-color: #008080; font-weight: bold\">61334.0</span> <span style=\"color: #008000; text-decoration-color: #008000\">\"y5-H2O+CO/-1.5ppm 119/200\"</span>\n",
       "</pre>\n"
      ],
      "text/plain": [
       "\u001b[1;36m413.2137\u001b[0m        \u001b[1;36m61334.0\u001b[0m \u001b[32m\"y5-H2O+CO/-1.5ppm 119/200\"\u001b[0m\n"
      ]
     },
     "metadata": {},
     "output_type": "display_data"
    },
    {
     "data": {
      "text/html": [
       "<pre style=\"white-space:pre;overflow-x:auto;line-height:normal;font-family:Menlo,'DejaVu Sans Mono',consolas,'Courier New',monospace\"><span style=\"color: #008080; text-decoration-color: #008080; font-weight: bold\">427.2293</span>        <span style=\"color: #008080; text-decoration-color: #008080; font-weight: bold\">1773724.2</span>       <span style=\"color: #008000; text-decoration-color: #008000\">\"b6/-1.5ppm 198/200\"</span>\n",
       "</pre>\n"
      ],
      "text/plain": [
       "\u001b[1;36m427.2293\u001b[0m        \u001b[1;36m1773724.2\u001b[0m       \u001b[32m\"b6/-1.5ppm 198/200\"\u001b[0m\n"
      ]
     },
     "metadata": {},
     "output_type": "display_data"
    },
    {
     "data": {
      "text/html": [
       "<pre style=\"white-space:pre;overflow-x:auto;line-height:normal;font-family:Menlo,'DejaVu Sans Mono',consolas,'Courier New',monospace\"><span style=\"color: #008080; text-decoration-color: #008080; font-weight: bold\">428.2319</span>        <span style=\"color: #008080; text-decoration-color: #008080; font-weight: bold\">230900.2</span>        <span style=\"color: #008000; text-decoration-color: #008000\">\"b6+i/-2.0ppm 159/200\"</span>\n",
       "</pre>\n"
      ],
      "text/plain": [
       "\u001b[1;36m428.2319\u001b[0m        \u001b[1;36m230900.2\u001b[0m        \u001b[32m\"b6+i/-2.0ppm 159/200\"\u001b[0m\n"
      ]
     },
     "metadata": {},
     "output_type": "display_data"
    },
    {
     "data": {
      "text/html": [
       "<pre style=\"white-space:pre;overflow-x:auto;line-height:normal;font-family:Menlo,'DejaVu Sans Mono',consolas,'Courier New',monospace\"><span style=\"color: #008080; text-decoration-color: #008080; font-weight: bold\">438.2086</span>        <span style=\"color: #008080; text-decoration-color: #008080; font-weight: bold\">29863.6</span> <span style=\"color: #008000; text-decoration-color: #008000\">\"? 94/200\"</span>\n",
       "</pre>\n"
      ],
      "text/plain": [
       "\u001b[1;36m438.2086\u001b[0m        \u001b[1;36m29863.6\u001b[0m \u001b[32m\"? 94/200\"\u001b[0m\n"
      ]
     },
     "metadata": {},
     "output_type": "display_data"
    },
    {
     "data": {
      "text/html": [
       "<pre style=\"white-space:pre;overflow-x:auto;line-height:normal;font-family:Menlo,'DejaVu Sans Mono',consolas,'Courier New',monospace\"><span style=\"color: #008080; text-decoration-color: #008080; font-weight: bold\">453.2448</span>        <span style=\"color: #008080; text-decoration-color: #008080; font-weight: bold\">455874.2</span>        <span style=\"color: #008000; text-decoration-color: #008000\">\"? 193/200\"</span>\n",
       "</pre>\n"
      ],
      "text/plain": [
       "\u001b[1;36m453.2448\u001b[0m        \u001b[1;36m455874.2\u001b[0m        \u001b[32m\"? 193/200\"\u001b[0m\n"
      ]
     },
     "metadata": {},
     "output_type": "display_data"
    },
    {
     "data": {
      "text/html": [
       "<pre style=\"white-space:pre;overflow-x:auto;line-height:normal;font-family:Menlo,'DejaVu Sans Mono',consolas,'Courier New',monospace\"><span style=\"color: #008080; text-decoration-color: #008080; font-weight: bold\">454.2491</span>        <span style=\"color: #008080; text-decoration-color: #008080; font-weight: bold\">43076.5</span> <span style=\"color: #008000; text-decoration-color: #008000\">\"? 98/200\"</span>\n",
       "</pre>\n"
      ],
      "text/plain": [
       "\u001b[1;36m454.2491\u001b[0m        \u001b[1;36m43076.5\u001b[0m \u001b[32m\"? 98/200\"\u001b[0m\n"
      ]
     },
     "metadata": {},
     "output_type": "display_data"
    },
    {
     "data": {
      "text/html": [
       "<pre style=\"white-space:pre;overflow-x:auto;line-height:normal;font-family:Menlo,'DejaVu Sans Mono',consolas,'Courier New',monospace\"><span style=\"color: #008080; text-decoration-color: #008080; font-weight: bold\">470.2739</span>        <span style=\"color: #008080; text-decoration-color: #008080; font-weight: bold\">132956.4</span>        <span style=\"color: #008000; text-decoration-color: #008000\">\"a7/3.7ppm 147/200\"</span>\n",
       "</pre>\n"
      ],
      "text/plain": [
       "\u001b[1;36m470.2739\u001b[0m        \u001b[1;36m132956.4\u001b[0m        \u001b[32m\"a7/3.7ppm 147/200\"\u001b[0m\n"
      ]
     },
     "metadata": {},
     "output_type": "display_data"
    },
    {
     "data": {
      "text/html": [
       "<pre style=\"white-space:pre;overflow-x:auto;line-height:normal;font-family:Menlo,'DejaVu Sans Mono',consolas,'Courier New',monospace\"><span style=\"color: #008080; text-decoration-color: #008080; font-weight: bold\">474.2670</span>        <span style=\"color: #008080; text-decoration-color: #008080; font-weight: bold\">239881.5</span>        <span style=\"color: #008000; text-decoration-color: #008000\">\"y6/-0.2ppm 174/200\"</span>\n",
       "</pre>\n"
      ],
      "text/plain": [
       "\u001b[1;36m474.2670\u001b[0m        \u001b[1;36m239881.5\u001b[0m        \u001b[32m\"y6/-0.2ppm 174/200\"\u001b[0m\n"
      ]
     },
     "metadata": {},
     "output_type": "display_data"
    },
    {
     "data": {
      "text/html": [
       "<pre style=\"white-space:pre;overflow-x:auto;line-height:normal;font-family:Menlo,'DejaVu Sans Mono',consolas,'Courier New',monospace\"><span style=\"color: #008080; text-decoration-color: #008080; font-weight: bold\">480.2561</span>        <span style=\"color: #008080; text-decoration-color: #008080; font-weight: bold\">73528.3</span> <span style=\"color: #008000; text-decoration-color: #008000\">\"b7-H2O/-0.8ppm 123/200\"</span>\n",
       "</pre>\n"
      ],
      "text/plain": [
       "\u001b[1;36m480.2561\u001b[0m        \u001b[1;36m73528.3\u001b[0m \u001b[32m\"b7-H2O/-0.8ppm 123/200\"\u001b[0m\n"
      ]
     },
     "metadata": {},
     "output_type": "display_data"
    },
    {
     "data": {
      "text/html": [
       "<pre style=\"white-space:pre;overflow-x:auto;line-height:normal;font-family:Menlo,'DejaVu Sans Mono',consolas,'Courier New',monospace\"><span style=\"color: #008080; text-decoration-color: #008080; font-weight: bold\">484.2507</span>        <span style=\"color: #008080; text-decoration-color: #008080; font-weight: bold\">67415.4</span> <span style=\"color: #008000; text-decoration-color: #008000\">\"y6-H2O+CO/-1.5ppm 122/200\"</span>\n",
       "</pre>\n"
      ],
      "text/plain": [
       "\u001b[1;36m484.2507\u001b[0m        \u001b[1;36m67415.4\u001b[0m \u001b[32m\"y6-H2O+CO/-1.5ppm 122/200\"\u001b[0m\n"
      ]
     },
     "metadata": {},
     "output_type": "display_data"
    },
    {
     "data": {
      "text/html": [
       "<pre style=\"white-space:pre;overflow-x:auto;line-height:normal;font-family:Menlo,'DejaVu Sans Mono',consolas,'Courier New',monospace\"><span style=\"color: #008080; text-decoration-color: #008080; font-weight: bold\">496.2504</span>        <span style=\"color: #008080; text-decoration-color: #008080; font-weight: bold\">29551.8</span> <span style=\"color: #008000; text-decoration-color: #008000\">\"? 86/200\"</span>\n",
       "</pre>\n"
      ],
      "text/plain": [
       "\u001b[1;36m496.2504\u001b[0m        \u001b[1;36m29551.8\u001b[0m \u001b[32m\"? 86/200\"\u001b[0m\n"
      ]
     },
     "metadata": {},
     "output_type": "display_data"
    },
    {
     "data": {
      "text/html": [
       "<pre style=\"white-space:pre;overflow-x:auto;line-height:normal;font-family:Menlo,'DejaVu Sans Mono',consolas,'Courier New',monospace\"><span style=\"color: #008080; text-decoration-color: #008080; font-weight: bold\">498.2664</span>        <span style=\"color: #008080; text-decoration-color: #008080; font-weight: bold\">1568386.1</span>       <span style=\"color: #008000; text-decoration-color: #008000\">\"b7/-1.3ppm 199/200\"</span>\n",
       "</pre>\n"
      ],
      "text/plain": [
       "\u001b[1;36m498.2664\u001b[0m        \u001b[1;36m1568386.1\u001b[0m       \u001b[32m\"b7/-1.3ppm 199/200\"\u001b[0m\n"
      ]
     },
     "metadata": {},
     "output_type": "display_data"
    },
    {
     "data": {
      "text/html": [
       "<pre style=\"white-space:pre;overflow-x:auto;line-height:normal;font-family:Menlo,'DejaVu Sans Mono',consolas,'Courier New',monospace\"><span style=\"color: #008080; text-decoration-color: #008080; font-weight: bold\">499.2690</span>        <span style=\"color: #008080; text-decoration-color: #008080; font-weight: bold\">235075.2</span>        <span style=\"color: #008000; text-decoration-color: #008000\">\"b7+i/-1.7ppm 154/200\"</span>\n",
       "</pre>\n"
      ],
      "text/plain": [
       "\u001b[1;36m499.2690\u001b[0m        \u001b[1;36m235075.2\u001b[0m        \u001b[32m\"b7+i/-1.7ppm 154/200\"\u001b[0m\n"
      ]
     },
     "metadata": {},
     "output_type": "display_data"
    },
    {
     "data": {
      "text/html": [
       "<pre style=\"white-space:pre;overflow-x:auto;line-height:normal;font-family:Menlo,'DejaVu Sans Mono',consolas,'Courier New',monospace\"><span style=\"color: #008080; text-decoration-color: #008080; font-weight: bold\">509.2465</span>        <span style=\"color: #008080; text-decoration-color: #008080; font-weight: bold\">23055.0</span> <span style=\"color: #008000; text-decoration-color: #008000\">\"? 82/200\"</span>\n",
       "</pre>\n"
      ],
      "text/plain": [
       "\u001b[1;36m509.2465\u001b[0m        \u001b[1;36m23055.0\u001b[0m \u001b[32m\"? 82/200\"\u001b[0m\n"
      ]
     },
     "metadata": {},
     "output_type": "display_data"
    },
    {
     "data": {
      "text/html": [
       "<pre style=\"white-space:pre;overflow-x:auto;line-height:normal;font-family:Menlo,'DejaVu Sans Mono',consolas,'Courier New',monospace\"><span style=\"color: #008080; text-decoration-color: #008080; font-weight: bold\">524.2817</span>        <span style=\"color: #008080; text-decoration-color: #008080; font-weight: bold\">231866.9</span>        <span style=\"color: #008000; text-decoration-color: #008000\">\"? 172/200\"</span>\n",
       "</pre>\n"
      ],
      "text/plain": [
       "\u001b[1;36m524.2817\u001b[0m        \u001b[1;36m231866.9\u001b[0m        \u001b[32m\"? 172/200\"\u001b[0m\n"
      ]
     },
     "metadata": {},
     "output_type": "display_data"
    },
    {
     "data": {
      "text/html": [
       "<pre style=\"white-space:pre;overflow-x:auto;line-height:normal;font-family:Menlo,'DejaVu Sans Mono',consolas,'Courier New',monospace\"><span style=\"color: #008080; text-decoration-color: #008080; font-weight: bold\">525.2848</span>        <span style=\"color: #008080; text-decoration-color: #008080; font-weight: bold\">22162.9</span> <span style=\"color: #008000; text-decoration-color: #008000\">\"? 80/200\"</span>\n",
       "</pre>\n"
      ],
      "text/plain": [
       "\u001b[1;36m525.2848\u001b[0m        \u001b[1;36m22162.9\u001b[0m \u001b[32m\"? 80/200\"\u001b[0m\n"
      ]
     },
     "metadata": {},
     "output_type": "display_data"
    },
    {
     "data": {
      "text/html": [
       "<pre style=\"white-space:pre;overflow-x:auto;line-height:normal;font-family:Menlo,'DejaVu Sans Mono',consolas,'Courier New',monospace\"><span style=\"color: #008080; text-decoration-color: #008080; font-weight: bold\">527.2572</span>        <span style=\"color: #008080; text-decoration-color: #008080; font-weight: bold\">26445.4</span> <span style=\"color: #008000; text-decoration-color: #008000\">\"? 83/200\"</span>\n",
       "</pre>\n"
      ],
      "text/plain": [
       "\u001b[1;36m527.2572\u001b[0m        \u001b[1;36m26445.4\u001b[0m \u001b[32m\"? 83/200\"\u001b[0m\n"
      ]
     },
     "metadata": {},
     "output_type": "display_data"
    },
    {
     "data": {
      "text/html": [
       "<pre style=\"white-space:pre;overflow-x:auto;line-height:normal;font-family:Menlo,'DejaVu Sans Mono',consolas,'Courier New',monospace\"><span style=\"color: #008080; text-decoration-color: #008080; font-weight: bold\">531.2882</span>        <span style=\"color: #008080; text-decoration-color: #008080; font-weight: bold\">741356.3</span>        <span style=\"color: #008000; text-decoration-color: #008000\">\"y7/-0.6ppm 197/200\"</span>\n",
       "</pre>\n"
      ],
      "text/plain": [
       "\u001b[1;36m531.2882\u001b[0m        \u001b[1;36m741356.3\u001b[0m        \u001b[32m\"y7/-0.6ppm 197/200\"\u001b[0m\n"
      ]
     },
     "metadata": {},
     "output_type": "display_data"
    },
    {
     "data": {
      "text/html": [
       "<pre style=\"white-space:pre;overflow-x:auto;line-height:normal;font-family:Menlo,'DejaVu Sans Mono',consolas,'Courier New',monospace\"><span style=\"color: #008080; text-decoration-color: #008080; font-weight: bold\">532.2916</span>        <span style=\"color: #008080; text-decoration-color: #008080; font-weight: bold\">87145.0</span> <span style=\"color: #008000; text-decoration-color: #008000\">\"y7+i/0.7ppm 125/200\"</span>\n",
       "</pre>\n"
      ],
      "text/plain": [
       "\u001b[1;36m532.2916\u001b[0m        \u001b[1;36m87145.0\u001b[0m \u001b[32m\"y7+i/0.7ppm 125/200\"\u001b[0m\n"
      ]
     },
     "metadata": {},
     "output_type": "display_data"
    },
    {
     "data": {
      "text/html": [
       "<pre style=\"white-space:pre;overflow-x:auto;line-height:normal;font-family:Menlo,'DejaVu Sans Mono',consolas,'Courier New',monospace\"><span style=\"color: #008080; text-decoration-color: #008080; font-weight: bold\">541.2727</span>        <span style=\"color: #008080; text-decoration-color: #008080; font-weight: bold\">37299.4</span> <span style=\"color: #008000; text-decoration-color: #008000\">\"y7-H2O+CO/-0.3ppm 87/200\"</span>\n",
       "</pre>\n"
      ],
      "text/plain": [
       "\u001b[1;36m541.2727\u001b[0m        \u001b[1;36m37299.4\u001b[0m \u001b[32m\"y7-H2O+CO/-0.3ppm 87/200\"\u001b[0m\n"
      ]
     },
     "metadata": {},
     "output_type": "display_data"
    },
    {
     "data": {
      "text/html": [
       "<pre style=\"white-space:pre;overflow-x:auto;line-height:normal;font-family:Menlo,'DejaVu Sans Mono',consolas,'Courier New',monospace\"><span style=\"color: #008080; text-decoration-color: #008080; font-weight: bold\">551.2936</span>        <span style=\"color: #008080; text-decoration-color: #008080; font-weight: bold\">74590.4</span> <span style=\"color: #008000; text-decoration-color: #008000\">\"b8-H2O/-0.0ppm 119/200\"</span>\n",
       "</pre>\n"
      ],
      "text/plain": [
       "\u001b[1;36m551.2936\u001b[0m        \u001b[1;36m74590.4\u001b[0m \u001b[32m\"b8-H2O/-0.0ppm 119/200\"\u001b[0m\n"
      ]
     },
     "metadata": {},
     "output_type": "display_data"
    },
    {
     "data": {
      "text/html": [
       "<pre style=\"white-space:pre;overflow-x:auto;line-height:normal;font-family:Menlo,'DejaVu Sans Mono',consolas,'Courier New',monospace\"><span style=\"color: #008080; text-decoration-color: #008080; font-weight: bold\">555.2883</span>        <span style=\"color: #008080; text-decoration-color: #008080; font-weight: bold\">61569.5</span> <span style=\"color: #008000; text-decoration-color: #008000\">\"? 116/200\"</span>\n",
       "</pre>\n"
      ],
      "text/plain": [
       "\u001b[1;36m555.2883\u001b[0m        \u001b[1;36m61569.5\u001b[0m \u001b[32m\"? 116/200\"\u001b[0m\n"
      ]
     },
     "metadata": {},
     "output_type": "display_data"
    },
    {
     "data": {
      "text/html": [
       "<pre style=\"white-space:pre;overflow-x:auto;line-height:normal;font-family:Menlo,'DejaVu Sans Mono',consolas,'Courier New',monospace\"><span style=\"color: #008080; text-decoration-color: #008080; font-weight: bold\">569.3033</span>        <span style=\"color: #008080; text-decoration-color: #008080; font-weight: bold\">1182016.9</span>       <span style=\"color: #008000; text-decoration-color: #008000\">\"b8/-1.6ppm 198/200\"</span>\n",
       "</pre>\n"
      ],
      "text/plain": [
       "\u001b[1;36m569.3033\u001b[0m        \u001b[1;36m1182016.9\u001b[0m       \u001b[32m\"b8/-1.6ppm 198/200\"\u001b[0m\n"
      ]
     },
     "metadata": {},
     "output_type": "display_data"
    },
    {
     "data": {
      "text/html": [
       "<pre style=\"white-space:pre;overflow-x:auto;line-height:normal;font-family:Menlo,'DejaVu Sans Mono',consolas,'Courier New',monospace\"><span style=\"color: #008080; text-decoration-color: #008080; font-weight: bold\">570.3064</span>        <span style=\"color: #008080; text-decoration-color: #008080; font-weight: bold\">209164.7</span>        <span style=\"color: #008000; text-decoration-color: #008000\">\"b8+i/-1.0ppm 152/200\"</span>\n",
       "</pre>\n"
      ],
      "text/plain": [
       "\u001b[1;36m570.3064\u001b[0m        \u001b[1;36m209164.7\u001b[0m        \u001b[32m\"b8+i/-1.0ppm 152/200\"\u001b[0m\n"
      ]
     },
     "metadata": {},
     "output_type": "display_data"
    },
    {
     "data": {
      "text/html": [
       "<pre style=\"white-space:pre;overflow-x:auto;line-height:normal;font-family:Menlo,'DejaVu Sans Mono',consolas,'Courier New',monospace\"><span style=\"color: #008080; text-decoration-color: #008080; font-weight: bold\">595.3178</span>        <span style=\"color: #008080; text-decoration-color: #008080; font-weight: bold\">93112.3</span> <span style=\"color: #008000; text-decoration-color: #008000\">\"? 139/200\"</span>\n",
       "</pre>\n"
      ],
      "text/plain": [
       "\u001b[1;36m595.3178\u001b[0m        \u001b[1;36m93112.3\u001b[0m \u001b[32m\"? 139/200\"\u001b[0m\n"
      ]
     },
     "metadata": {},
     "output_type": "display_data"
    },
    {
     "data": {
      "text/html": [
       "<pre style=\"white-space:pre;overflow-x:auto;line-height:normal;font-family:Menlo,'DejaVu Sans Mono',consolas,'Courier New',monospace\"><span style=\"color: #008080; text-decoration-color: #008080; font-weight: bold\">598.2940</span>        <span style=\"color: #008080; text-decoration-color: #008080; font-weight: bold\">28506.8</span> <span style=\"color: #008000; text-decoration-color: #008000\">\"? 91/200\"</span>\n",
       "</pre>\n"
      ],
      "text/plain": [
       "\u001b[1;36m598.2940\u001b[0m        \u001b[1;36m28506.8\u001b[0m \u001b[32m\"? 91/200\"\u001b[0m\n"
      ]
     },
     "metadata": {},
     "output_type": "display_data"
    },
    {
     "data": {
      "text/html": [
       "<pre style=\"white-space:pre;overflow-x:auto;line-height:normal;font-family:Menlo,'DejaVu Sans Mono',consolas,'Courier New',monospace\"><span style=\"color: #008080; text-decoration-color: #008080; font-weight: bold\">602.3249</span>        <span style=\"color: #008080; text-decoration-color: #008080; font-weight: bold\">551164.1</span>        <span style=\"color: #008000; text-decoration-color: #008000\">\"y8/-1.2ppm 193/200\"</span>\n",
       "</pre>\n"
      ],
      "text/plain": [
       "\u001b[1;36m602.3249\u001b[0m        \u001b[1;36m551164.1\u001b[0m        \u001b[32m\"y8/-1.2ppm 193/200\"\u001b[0m\n"
      ]
     },
     "metadata": {},
     "output_type": "display_data"
    },
    {
     "data": {
      "text/html": [
       "<pre style=\"white-space:pre;overflow-x:auto;line-height:normal;font-family:Menlo,'DejaVu Sans Mono',consolas,'Courier New',monospace\"><span style=\"color: #008080; text-decoration-color: #008080; font-weight: bold\">603.3279</span>        <span style=\"color: #008080; text-decoration-color: #008080; font-weight: bold\">73691.5</span> <span style=\"color: #008000; text-decoration-color: #008000\">\"y8+i/-0.8ppm 118/200\"</span>\n",
       "</pre>\n"
      ],
      "text/plain": [
       "\u001b[1;36m603.3279\u001b[0m        \u001b[1;36m73691.5\u001b[0m \u001b[32m\"y8+i/-0.8ppm 118/200\"\u001b[0m\n"
      ]
     },
     "metadata": {},
     "output_type": "display_data"
    },
    {
     "data": {
      "text/html": [
       "<pre style=\"white-space:pre;overflow-x:auto;line-height:normal;font-family:Menlo,'DejaVu Sans Mono',consolas,'Courier New',monospace\"><span style=\"color: #008080; text-decoration-color: #008080; font-weight: bold\">612.3106</span>        <span style=\"color: #008080; text-decoration-color: #008080; font-weight: bold\">46118.5</span> <span style=\"color: #008000; text-decoration-color: #008000\">\"y8-H2O+CO/1.0ppm 105/200\"</span>\n",
       "</pre>\n"
      ],
      "text/plain": [
       "\u001b[1;36m612.3106\u001b[0m        \u001b[1;36m46118.5\u001b[0m \u001b[32m\"y8-H2O+CO/1.0ppm 105/200\"\u001b[0m\n"
      ]
     },
     "metadata": {},
     "output_type": "display_data"
    },
    {
     "data": {
      "text/html": [
       "<pre style=\"white-space:pre;overflow-x:auto;line-height:normal;font-family:Menlo,'DejaVu Sans Mono',consolas,'Courier New',monospace\"><span style=\"color: #008080; text-decoration-color: #008080; font-weight: bold\">622.3294</span>        <span style=\"color: #008080; text-decoration-color: #008080; font-weight: bold\">36950.8</span> <span style=\"color: #008000; text-decoration-color: #008000\">\"b9-H2O/-2.1ppm 102/200\"</span>\n",
       "</pre>\n"
      ],
      "text/plain": [
       "\u001b[1;36m622.3294\u001b[0m        \u001b[1;36m36950.8\u001b[0m \u001b[32m\"b9-H2O/-2.1ppm 102/200\"\u001b[0m\n"
      ]
     },
     "metadata": {},
     "output_type": "display_data"
    },
    {
     "data": {
      "text/html": [
       "<pre style=\"white-space:pre;overflow-x:auto;line-height:normal;font-family:Menlo,'DejaVu Sans Mono',consolas,'Courier New',monospace\"><span style=\"color: #008080; text-decoration-color: #008080; font-weight: bold\">626.3245</span>        <span style=\"color: #008080; text-decoration-color: #008080; font-weight: bold\">57194.1</span> <span style=\"color: #008000; text-decoration-color: #008000\">\"? 117/200\"</span>\n",
       "</pre>\n"
      ],
      "text/plain": [
       "\u001b[1;36m626.3245\u001b[0m        \u001b[1;36m57194.1\u001b[0m \u001b[32m\"? 117/200\"\u001b[0m\n"
      ]
     },
     "metadata": {},
     "output_type": "display_data"
    },
    {
     "data": {
      "text/html": [
       "<pre style=\"white-space:pre;overflow-x:auto;line-height:normal;font-family:Menlo,'DejaVu Sans Mono',consolas,'Courier New',monospace\"><span style=\"color: #008080; text-decoration-color: #008080; font-weight: bold\">640.3402</span>        <span style=\"color: #008080; text-decoration-color: #008080; font-weight: bold\">780743.7</span>        <span style=\"color: #008000; text-decoration-color: #008000\">\"b9/-1.7ppm 189/200\"</span>\n",
       "</pre>\n"
      ],
      "text/plain": [
       "\u001b[1;36m640.3402\u001b[0m        \u001b[1;36m780743.7\u001b[0m        \u001b[32m\"b9/-1.7ppm 189/200\"\u001b[0m\n"
      ]
     },
     "metadata": {},
     "output_type": "display_data"
    },
    {
     "data": {
      "text/html": [
       "<pre style=\"white-space:pre;overflow-x:auto;line-height:normal;font-family:Menlo,'DejaVu Sans Mono',consolas,'Courier New',monospace\"><span style=\"color: #008080; text-decoration-color: #008080; font-weight: bold\">641.3433</span>        <span style=\"color: #008080; text-decoration-color: #008080; font-weight: bold\">146597.5</span>        <span style=\"color: #008000; text-decoration-color: #008000\">\"b9+i/-1.2ppm 139/200\"</span>\n",
       "</pre>\n"
      ],
      "text/plain": [
       "\u001b[1;36m641.3433\u001b[0m        \u001b[1;36m146597.5\u001b[0m        \u001b[32m\"b9+i/-1.2ppm 139/200\"\u001b[0m\n"
      ]
     },
     "metadata": {},
     "output_type": "display_data"
    },
    {
     "data": {
      "text/html": [
       "<pre style=\"white-space:pre;overflow-x:auto;line-height:normal;font-family:Menlo,'DejaVu Sans Mono',consolas,'Courier New',monospace\"><span style=\"color: #008080; text-decoration-color: #008080; font-weight: bold\">666.3549</span>        <span style=\"color: #008080; text-decoration-color: #008080; font-weight: bold\">23063.4</span> <span style=\"color: #008000; text-decoration-color: #008000\">\"? 81/200\"</span>\n",
       "</pre>\n"
      ],
      "text/plain": [
       "\u001b[1;36m666.3549\u001b[0m        \u001b[1;36m23063.4\u001b[0m \u001b[32m\"? 81/200\"\u001b[0m\n"
      ]
     },
     "metadata": {},
     "output_type": "display_data"
    },
    {
     "data": {
      "text/html": [
       "<pre style=\"white-space:pre;overflow-x:auto;line-height:normal;font-family:Menlo,'DejaVu Sans Mono',consolas,'Courier New',monospace\"><span style=\"color: #008080; text-decoration-color: #008080; font-weight: bold\">669.3310</span>        <span style=\"color: #008080; text-decoration-color: #008080; font-weight: bold\">27664.2</span> <span style=\"color: #008000; text-decoration-color: #008000\">\"? 98/200\"</span>\n",
       "</pre>\n"
      ],
      "text/plain": [
       "\u001b[1;36m669.3310\u001b[0m        \u001b[1;36m27664.2\u001b[0m \u001b[32m\"? 98/200\"\u001b[0m\n"
      ]
     },
     "metadata": {},
     "output_type": "display_data"
    },
    {
     "data": {
      "text/html": [
       "<pre style=\"white-space:pre;overflow-x:auto;line-height:normal;font-family:Menlo,'DejaVu Sans Mono',consolas,'Courier New',monospace\"><span style=\"color: #008080; text-decoration-color: #008080; font-weight: bold\">673.3617</span>        <span style=\"color: #008080; text-decoration-color: #008080; font-weight: bold\">556586.0</span>        <span style=\"color: #008000; text-decoration-color: #008000\">\"y9/-1.6ppm 191/200\"</span>\n",
       "</pre>\n"
      ],
      "text/plain": [
       "\u001b[1;36m673.3617\u001b[0m        \u001b[1;36m556586.0\u001b[0m        \u001b[32m\"y9/-1.6ppm 191/200\"\u001b[0m\n"
      ]
     },
     "metadata": {},
     "output_type": "display_data"
    },
    {
     "data": {
      "text/html": [
       "<pre style=\"white-space:pre;overflow-x:auto;line-height:normal;font-family:Menlo,'DejaVu Sans Mono',consolas,'Courier New',monospace\"><span style=\"color: #008080; text-decoration-color: #008080; font-weight: bold\">674.3644</span>        <span style=\"color: #008080; text-decoration-color: #008080; font-weight: bold\">95708.4</span> <span style=\"color: #008000; text-decoration-color: #008000\">\"y9+i/-1.6ppm 126/200\"</span>\n",
       "</pre>\n"
      ],
      "text/plain": [
       "\u001b[1;36m674.3644\u001b[0m        \u001b[1;36m95708.4\u001b[0m \u001b[32m\"y9+i/-1.6ppm 126/200\"\u001b[0m\n"
      ]
     },
     "metadata": {},
     "output_type": "display_data"
    },
    {
     "data": {
      "text/html": [
       "<pre style=\"white-space:pre;overflow-x:auto;line-height:normal;font-family:Menlo,'DejaVu Sans Mono',consolas,'Courier New',monospace\"><span style=\"color: #008080; text-decoration-color: #008080; font-weight: bold\">683.3458</span>        <span style=\"color: #008080; text-decoration-color: #008080; font-weight: bold\">40435.1</span> <span style=\"color: #008000; text-decoration-color: #008000\">\"y9-H2O+CO/-1.9ppm 101/200\"</span>\n",
       "</pre>\n"
      ],
      "text/plain": [
       "\u001b[1;36m683.3458\u001b[0m        \u001b[1;36m40435.1\u001b[0m \u001b[32m\"y9-H2O+CO/-1.9ppm 101/200\"\u001b[0m\n"
      ]
     },
     "metadata": {},
     "output_type": "display_data"
    },
    {
     "data": {
      "text/html": [
       "<pre style=\"white-space:pre;overflow-x:auto;line-height:normal;font-family:Menlo,'DejaVu Sans Mono',consolas,'Courier New',monospace\"><span style=\"color: #008080; text-decoration-color: #008080; font-weight: bold\">697.3611</span>        <span style=\"color: #008080; text-decoration-color: #008080; font-weight: bold\">33964.2</span> <span style=\"color: #008000; text-decoration-color: #008000\">\"? 98/200\"</span>\n",
       "</pre>\n"
      ],
      "text/plain": [
       "\u001b[1;36m697.3611\u001b[0m        \u001b[1;36m33964.2\u001b[0m \u001b[32m\"? 98/200\"\u001b[0m\n"
      ]
     },
     "metadata": {},
     "output_type": "display_data"
    },
    {
     "data": {
      "text/html": [
       "<pre style=\"white-space:pre;overflow-x:auto;line-height:normal;font-family:Menlo,'DejaVu Sans Mono',consolas,'Courier New',monospace\"><span style=\"color: #008080; text-decoration-color: #008080; font-weight: bold\">711.3773</span>        <span style=\"color: #008080; text-decoration-color: #008080; font-weight: bold\">456267.1</span>        <span style=\"color: #008000; text-decoration-color: #008000\">\"b10/-1.6ppm 188/200\"</span>\n",
       "</pre>\n"
      ],
      "text/plain": [
       "\u001b[1;36m711.3773\u001b[0m        \u001b[1;36m456267.1\u001b[0m        \u001b[32m\"b10/-1.6ppm 188/200\"\u001b[0m\n"
      ]
     },
     "metadata": {},
     "output_type": "display_data"
    },
    {
     "data": {
      "text/html": [
       "<pre style=\"white-space:pre;overflow-x:auto;line-height:normal;font-family:Menlo,'DejaVu Sans Mono',consolas,'Courier New',monospace\"><span style=\"color: #008080; text-decoration-color: #008080; font-weight: bold\">712.3803</span>        <span style=\"color: #008080; text-decoration-color: #008080; font-weight: bold\">90213.5</span> <span style=\"color: #008000; text-decoration-color: #008000\">\"b10+i/-1.3ppm 121/200\"</span>\n",
       "</pre>\n"
      ],
      "text/plain": [
       "\u001b[1;36m712.3803\u001b[0m        \u001b[1;36m90213.5\u001b[0m \u001b[32m\"b10+i/-1.3ppm 121/200\"\u001b[0m\n"
      ]
     },
     "metadata": {},
     "output_type": "display_data"
    },
    {
     "data": {
      "text/html": [
       "<pre style=\"white-space:pre;overflow-x:auto;line-height:normal;font-family:Menlo,'DejaVu Sans Mono',consolas,'Courier New',monospace\"><span style=\"color: #008080; text-decoration-color: #008080; font-weight: bold\">740.3669</span>        <span style=\"color: #008080; text-decoration-color: #008080; font-weight: bold\">18991.8</span> <span style=\"color: #008000; text-decoration-color: #008000\">\"? 80/200\"</span>\n",
       "</pre>\n"
      ],
      "text/plain": [
       "\u001b[1;36m740.3669\u001b[0m        \u001b[1;36m18991.8\u001b[0m \u001b[32m\"? 80/200\"\u001b[0m\n"
      ]
     },
     "metadata": {},
     "output_type": "display_data"
    },
    {
     "data": {
      "text/html": [
       "<pre style=\"white-space:pre;overflow-x:auto;line-height:normal;font-family:Menlo,'DejaVu Sans Mono',consolas,'Courier New',monospace\"><span style=\"color: #008080; text-decoration-color: #008080; font-weight: bold\">744.3996</span>        <span style=\"color: #008080; text-decoration-color: #008080; font-weight: bold\">589662.8</span>        <span style=\"color: #008000; text-decoration-color: #008000\">\"y10/-0.4ppm 193/200\"</span>\n",
       "</pre>\n"
      ],
      "text/plain": [
       "\u001b[1;36m744.3996\u001b[0m        \u001b[1;36m589662.8\u001b[0m        \u001b[32m\"y10/-0.4ppm 193/200\"\u001b[0m\n"
      ]
     },
     "metadata": {},
     "output_type": "display_data"
    },
    {
     "data": {
      "text/html": [
       "<pre style=\"white-space:pre;overflow-x:auto;line-height:normal;font-family:Menlo,'DejaVu Sans Mono',consolas,'Courier New',monospace\"><span style=\"color: #008080; text-decoration-color: #008080; font-weight: bold\">745.4027</span>        <span style=\"color: #008080; text-decoration-color: #008080; font-weight: bold\">126578.1</span>        <span style=\"color: #008000; text-decoration-color: #008000\">\"y10+i/0.1ppm 140/200\"</span>\n",
       "</pre>\n"
      ],
      "text/plain": [
       "\u001b[1;36m745.4027\u001b[0m        \u001b[1;36m126578.1\u001b[0m        \u001b[32m\"y10+i/0.1ppm 140/200\"\u001b[0m\n"
      ]
     },
     "metadata": {},
     "output_type": "display_data"
    },
    {
     "data": {
      "text/html": [
       "<pre style=\"white-space:pre;overflow-x:auto;line-height:normal;font-family:Menlo,'DejaVu Sans Mono',consolas,'Courier New',monospace\"><span style=\"color: #008080; text-decoration-color: #008080; font-weight: bold\">754.3829</span>        <span style=\"color: #008080; text-decoration-color: #008080; font-weight: bold\">26216.7</span> <span style=\"color: #008000; text-decoration-color: #008000\">\"y10-H2O+CO/-1.8ppm 84/200\"</span>\n",
       "</pre>\n"
      ],
      "text/plain": [
       "\u001b[1;36m754.3829\u001b[0m        \u001b[1;36m26216.7\u001b[0m \u001b[32m\"y10-H2O+CO/-1.8ppm 84/200\"\u001b[0m\n"
      ]
     },
     "metadata": {},
     "output_type": "display_data"
    },
    {
     "data": {
      "text/html": [
       "<pre style=\"white-space:pre;overflow-x:auto;line-height:normal;font-family:Menlo,'DejaVu Sans Mono',consolas,'Courier New',monospace\"><span style=\"color: #008080; text-decoration-color: #008080; font-weight: bold\">782.4151</span>        <span style=\"color: #008080; text-decoration-color: #008080; font-weight: bold\">237790.1</span>        <span style=\"color: #008000; text-decoration-color: #008000\">\"b11/-0.5ppm 160/200\"</span>\n",
       "</pre>\n"
      ],
      "text/plain": [
       "\u001b[1;36m782.4151\u001b[0m        \u001b[1;36m237790.1\u001b[0m        \u001b[32m\"b11/-0.5ppm 160/200\"\u001b[0m\n"
      ]
     },
     "metadata": {},
     "output_type": "display_data"
    },
    {
     "data": {
      "text/html": [
       "<pre style=\"white-space:pre;overflow-x:auto;line-height:normal;font-family:Menlo,'DejaVu Sans Mono',consolas,'Courier New',monospace\"><span style=\"color: #008080; text-decoration-color: #008080; font-weight: bold\">783.4166</span>        <span style=\"color: #008080; text-decoration-color: #008080; font-weight: bold\">35086.5</span> <span style=\"color: #008000; text-decoration-color: #008000\">\"b11+i/-2.2ppm 85/200\"</span>\n",
       "</pre>\n"
      ],
      "text/plain": [
       "\u001b[1;36m783.4166\u001b[0m        \u001b[1;36m35086.5\u001b[0m \u001b[32m\"b11+i/-2.2ppm 85/200\"\u001b[0m\n"
      ]
     },
     "metadata": {},
     "output_type": "display_data"
    },
    {
     "data": {
      "text/html": [
       "<pre style=\"white-space:pre;overflow-x:auto;line-height:normal;font-family:Menlo,'DejaVu Sans Mono',consolas,'Courier New',monospace\"><span style=\"color: #008080; text-decoration-color: #008080; font-weight: bold\">815.4357</span>        <span style=\"color: #008080; text-decoration-color: #008080; font-weight: bold\">695273.1</span>        <span style=\"color: #008000; text-decoration-color: #008000\">\"y11/-1.6ppm 194/200\"</span>\n",
       "</pre>\n"
      ],
      "text/plain": [
       "\u001b[1;36m815.4357\u001b[0m        \u001b[1;36m695273.1\u001b[0m        \u001b[32m\"y11/-1.6ppm 194/200\"\u001b[0m\n"
      ]
     },
     "metadata": {},
     "output_type": "display_data"
    },
    {
     "data": {
      "text/html": [
       "<pre style=\"white-space:pre;overflow-x:auto;line-height:normal;font-family:Menlo,'DejaVu Sans Mono',consolas,'Courier New',monospace\"><span style=\"color: #008080; text-decoration-color: #008080; font-weight: bold\">816.4390</span>        <span style=\"color: #008080; text-decoration-color: #008080; font-weight: bold\">161580.1</span>        <span style=\"color: #008000; text-decoration-color: #008000\">\"y11+i/-0.9ppm 139/200\"</span>\n",
       "</pre>\n"
      ],
      "text/plain": [
       "\u001b[1;36m816.4390\u001b[0m        \u001b[1;36m161580.1\u001b[0m        \u001b[32m\"y11+i/-0.9ppm 139/200\"\u001b[0m\n"
      ]
     },
     "metadata": {},
     "output_type": "display_data"
    },
    {
     "data": {
      "text/html": [
       "<pre style=\"white-space:pre;overflow-x:auto;line-height:normal;font-family:Menlo,'DejaVu Sans Mono',consolas,'Courier New',monospace\"><span style=\"color: #008080; text-decoration-color: #008080; font-weight: bold\">853.4512</span>        <span style=\"color: #008080; text-decoration-color: #008080; font-weight: bold\">86153.5</span> <span style=\"color: #008000; text-decoration-color: #008000\">\"b12/-1.7ppm 115/200\"</span>\n",
       "</pre>\n"
      ],
      "text/plain": [
       "\u001b[1;36m853.4512\u001b[0m        \u001b[1;36m86153.5\u001b[0m \u001b[32m\"b12/-1.7ppm 115/200\"\u001b[0m\n"
      ]
     },
     "metadata": {},
     "output_type": "display_data"
    },
    {
     "data": {
      "text/html": [
       "<pre style=\"white-space:pre;overflow-x:auto;line-height:normal;font-family:Menlo,'DejaVu Sans Mono',consolas,'Courier New',monospace\"><span style=\"color: #008080; text-decoration-color: #008080; font-weight: bold\">886.4729</span>        <span style=\"color: #008080; text-decoration-color: #008080; font-weight: bold\">778338.2</span>        <span style=\"color: #008000; text-decoration-color: #008000\">\"y12/-1.4ppm 191/200\"</span>\n",
       "</pre>\n"
      ],
      "text/plain": [
       "\u001b[1;36m886.4729\u001b[0m        \u001b[1;36m778338.2\u001b[0m        \u001b[32m\"y12/-1.4ppm 191/200\"\u001b[0m\n"
      ]
     },
     "metadata": {},
     "output_type": "display_data"
    },
    {
     "data": {
      "text/html": [
       "<pre style=\"white-space:pre;overflow-x:auto;line-height:normal;font-family:Menlo,'DejaVu Sans Mono',consolas,'Courier New',monospace\"><span style=\"color: #008080; text-decoration-color: #008080; font-weight: bold\">887.4753</span>        <span style=\"color: #008080; text-decoration-color: #008080; font-weight: bold\">204507.9</span>        <span style=\"color: #008000; text-decoration-color: #008000\">\"y12+i/-1.7ppm 147/200\"</span>\n",
       "</pre>\n"
      ],
      "text/plain": [
       "\u001b[1;36m887.4753\u001b[0m        \u001b[1;36m204507.9\u001b[0m        \u001b[32m\"y12+i/-1.7ppm 147/200\"\u001b[0m\n"
      ]
     },
     "metadata": {},
     "output_type": "display_data"
    },
    {
     "data": {
      "text/html": [
       "<pre style=\"white-space:pre;overflow-x:auto;line-height:normal;font-family:Menlo,'DejaVu Sans Mono',consolas,'Courier New',monospace\"><span style=\"color: #008080; text-decoration-color: #008080; font-weight: bold\">957.5100</span>        <span style=\"color: #008080; text-decoration-color: #008080; font-weight: bold\">792133.5</span>        <span style=\"color: #008000; text-decoration-color: #008000\">\"y13/-1.3ppm 189/200\"</span>\n",
       "</pre>\n"
      ],
      "text/plain": [
       "\u001b[1;36m957.5100\u001b[0m        \u001b[1;36m792133.5\u001b[0m        \u001b[32m\"y13/-1.3ppm 189/200\"\u001b[0m\n"
      ]
     },
     "metadata": {},
     "output_type": "display_data"
    },
    {
     "data": {
      "text/html": [
       "<pre style=\"white-space:pre;overflow-x:auto;line-height:normal;font-family:Menlo,'DejaVu Sans Mono',consolas,'Courier New',monospace\"><span style=\"color: #008080; text-decoration-color: #008080; font-weight: bold\">958.5124</span>        <span style=\"color: #008080; text-decoration-color: #008080; font-weight: bold\">262896.2</span>        <span style=\"color: #008000; text-decoration-color: #008000\">\"y13+i/-1.6ppm 154/200\"</span>\n",
       "</pre>\n"
      ],
      "text/plain": [
       "\u001b[1;36m958.5124\u001b[0m        \u001b[1;36m262896.2\u001b[0m        \u001b[32m\"y13+i/-1.6ppm 154/200\"\u001b[0m\n"
      ]
     },
     "metadata": {},
     "output_type": "display_data"
    },
    {
     "data": {
      "text/html": [
       "<pre style=\"white-space:pre;overflow-x:auto;line-height:normal;font-family:Menlo,'DejaVu Sans Mono',consolas,'Courier New',monospace\"><span style=\"color: #008080; text-decoration-color: #008080; font-weight: bold\">1028.5474</span>       <span style=\"color: #008080; text-decoration-color: #008080; font-weight: bold\">748903.4</span>        <span style=\"color: #008000; text-decoration-color: #008000\">\"y14/-0.9ppm 190/200\"</span>\n",
       "</pre>\n"
      ],
      "text/plain": [
       "\u001b[1;36m1028.5474\u001b[0m       \u001b[1;36m748903.4\u001b[0m        \u001b[32m\"y14/-0.9ppm 190/200\"\u001b[0m\n"
      ]
     },
     "metadata": {},
     "output_type": "display_data"
    },
    {
     "data": {
      "text/html": [
       "<pre style=\"white-space:pre;overflow-x:auto;line-height:normal;font-family:Menlo,'DejaVu Sans Mono',consolas,'Courier New',monospace\"><span style=\"color: #008080; text-decoration-color: #008080; font-weight: bold\">1029.5504</span>       <span style=\"color: #008080; text-decoration-color: #008080; font-weight: bold\">250705.6</span>        <span style=\"color: #008000; text-decoration-color: #008000\">\"y14+i/-0.7ppm 147/200\"</span>\n",
       "</pre>\n"
      ],
      "text/plain": [
       "\u001b[1;36m1029.5504\u001b[0m       \u001b[1;36m250705.6\u001b[0m        \u001b[32m\"y14+i/-0.7ppm 147/200\"\u001b[0m\n"
      ]
     },
     "metadata": {},
     "output_type": "display_data"
    },
    {
     "data": {
      "text/html": [
       "<pre style=\"white-space:pre;overflow-x:auto;line-height:normal;font-family:Menlo,'DejaVu Sans Mono',consolas,'Courier New',monospace\"><span style=\"color: #008080; text-decoration-color: #008080; font-weight: bold\">1099.5842</span>       <span style=\"color: #008080; text-decoration-color: #008080; font-weight: bold\">611860.0</span>        <span style=\"color: #008000; text-decoration-color: #008000\">\"y15/-1.1ppm 186/200\"</span>\n",
       "</pre>\n"
      ],
      "text/plain": [
       "\u001b[1;36m1099.5842\u001b[0m       \u001b[1;36m611860.0\u001b[0m        \u001b[32m\"y15/-1.1ppm 186/200\"\u001b[0m\n"
      ]
     },
     "metadata": {},
     "output_type": "display_data"
    },
    {
     "data": {
      "text/html": [
       "<pre style=\"white-space:pre;overflow-x:auto;line-height:normal;font-family:Menlo,'DejaVu Sans Mono',consolas,'Courier New',monospace\"><span style=\"color: #008080; text-decoration-color: #008080; font-weight: bold\">1100.5867</span>       <span style=\"color: #008080; text-decoration-color: #008080; font-weight: bold\">242145.1</span>        <span style=\"color: #008000; text-decoration-color: #008000\">\"y15+i/-1.4ppm 154/200\"</span>\n",
       "</pre>\n"
      ],
      "text/plain": [
       "\u001b[1;36m1100.5867\u001b[0m       \u001b[1;36m242145.1\u001b[0m        \u001b[32m\"y15+i/-1.4ppm 154/200\"\u001b[0m\n"
      ]
     },
     "metadata": {},
     "output_type": "display_data"
    },
    {
     "data": {
      "text/html": [
       "<pre style=\"white-space:pre;overflow-x:auto;line-height:normal;font-family:Menlo,'DejaVu Sans Mono',consolas,'Courier New',monospace\"><span style=\"color: #008080; text-decoration-color: #008080; font-weight: bold\">1170.6213</span>       <span style=\"color: #008080; text-decoration-color: #008080; font-weight: bold\">442693.3</span>        <span style=\"color: #008000; text-decoration-color: #008000\">\"y16/-1.1ppm 180/200\"</span>\n",
       "</pre>\n"
      ],
      "text/plain": [
       "\u001b[1;36m1170.6213\u001b[0m       \u001b[1;36m442693.3\u001b[0m        \u001b[32m\"y16/-1.1ppm 180/200\"\u001b[0m\n"
      ]
     },
     "metadata": {},
     "output_type": "display_data"
    },
    {
     "data": {
      "text/html": [
       "<pre style=\"white-space:pre;overflow-x:auto;line-height:normal;font-family:Menlo,'DejaVu Sans Mono',consolas,'Courier New',monospace\"><span style=\"color: #008080; text-decoration-color: #008080; font-weight: bold\">1171.6241</span>       <span style=\"color: #008080; text-decoration-color: #008080; font-weight: bold\">173247.7</span>        <span style=\"color: #008000; text-decoration-color: #008000\">\"y16+i/-1.0ppm 133/200\"</span>\n",
       "</pre>\n"
      ],
      "text/plain": [
       "\u001b[1;36m1171.6241\u001b[0m       \u001b[1;36m173247.7\u001b[0m        \u001b[32m\"y16+i/-1.0ppm 133/200\"\u001b[0m\n"
      ]
     },
     "metadata": {},
     "output_type": "display_data"
    },
    {
     "data": {
      "text/html": [
       "<pre style=\"white-space:pre;overflow-x:auto;line-height:normal;font-family:Menlo,'DejaVu Sans Mono',consolas,'Courier New',monospace\"><span style=\"color: #008080; text-decoration-color: #008080; font-weight: bold\">1241.6580</span>       <span style=\"color: #008080; text-decoration-color: #008080; font-weight: bold\">264065.6</span>        <span style=\"color: #008000; text-decoration-color: #008000\">\"y17/-1.3ppm 170/200\"</span>\n",
       "</pre>\n"
      ],
      "text/plain": [
       "\u001b[1;36m1241.6580\u001b[0m       \u001b[1;36m264065.6\u001b[0m        \u001b[32m\"y17/-1.3ppm 170/200\"\u001b[0m\n"
      ]
     },
     "metadata": {},
     "output_type": "display_data"
    },
    {
     "data": {
      "text/html": [
       "<pre style=\"white-space:pre;overflow-x:auto;line-height:normal;font-family:Menlo,'DejaVu Sans Mono',consolas,'Courier New',monospace\"><span style=\"color: #008080; text-decoration-color: #008080; font-weight: bold\">1242.6602</span>       <span style=\"color: #008080; text-decoration-color: #008080; font-weight: bold\">112235.1</span>        <span style=\"color: #008000; text-decoration-color: #008000\">\"y17+i/-1.8ppm 125/200\"</span>\n",
       "</pre>\n"
      ],
      "text/plain": [
       "\u001b[1;36m1242.6602\u001b[0m       \u001b[1;36m112235.1\u001b[0m        \u001b[32m\"y17+i/-1.8ppm 125/200\"\u001b[0m\n"
      ]
     },
     "metadata": {},
     "output_type": "display_data"
    },
    {
     "data": {
      "text/html": [
       "<pre style=\"white-space:pre;overflow-x:auto;line-height:normal;font-family:Menlo,'DejaVu Sans Mono',consolas,'Courier New',monospace\"><span style=\"color: #008080; text-decoration-color: #008080; font-weight: bold\">1312.6938</span>       <span style=\"color: #008080; text-decoration-color: #008080; font-weight: bold\">74808.5</span> <span style=\"color: #008000; text-decoration-color: #008000\">\"y18/-2.3ppm 116/200\"</span>\n",
       "</pre>\n"
      ],
      "text/plain": [
       "\u001b[1;36m1312.6938\u001b[0m       \u001b[1;36m74808.5\u001b[0m \u001b[32m\"y18/-2.3ppm 116/200\"\u001b[0m\n"
      ]
     },
     "metadata": {},
     "output_type": "display_data"
    },
    {
     "data": {
      "text/html": [
       "<pre style=\"white-space:pre;overflow-x:auto;line-height:normal;font-family:Menlo,'DejaVu Sans Mono',consolas,'Courier New',monospace\">\n",
       "</pre>\n"
      ],
      "text/plain": [
       "\n"
      ]
     },
     "metadata": {},
     "output_type": "display_data"
    },
    {
     "data": {
      "text/html": [
       "<pre style=\"white-space:pre;overflow-x:auto;line-height:normal;font-family:Menlo,'DejaVu Sans Mono',consolas,'Courier New',monospace\">Name: AAAAAAAAAAAAAAAGAGAGAK/3_0\n",
       "</pre>\n"
      ],
      "text/plain": [
       "Name: AAAAAAAAAAAAAAAGAGAGAK/3_0\n"
      ]
     },
     "metadata": {},
     "output_type": "display_data"
    },
    {
     "data": {
      "text/html": [
       "<pre style=\"white-space:pre;overflow-x:auto;line-height:normal;font-family:Menlo,'DejaVu Sans Mono',consolas,'Courier New',monospace\">Comment: Consensus <span style=\"color: #808000; text-decoration-color: #808000\">Pep</span>=<span style=\"color: #800080; text-decoration-color: #800080\">Tryptic</span> <span style=\"color: #808000; text-decoration-color: #808000\">Peptype</span>=<span style=\"font-weight: bold\">&lt;</span><span style=\"color: #ff00ff; text-decoration-color: #ff00ff; font-weight: bold\">Protein</span><span style=\"font-weight: bold\">&gt;&lt;</span><span style=\"color: #ff00ff; text-decoration-color: #ff00ff; font-weight: bold\">Peptide</span><span style=\"font-weight: bold\">&gt;&lt;</span><span style=\"color: #ff00ff; text-decoration-color: #ff00ff; font-weight: bold\">Protein</span><span style=\"font-weight: bold\">&gt;</span> <span style=\"color: #808000; text-decoration-color: #808000\">Mods</span>=<span style=\"color: #008080; text-decoration-color: #008080; font-weight: bold\">0</span> <span style=\"color: #808000; text-decoration-color: #808000\">Fullname</span>=<span style=\"color: #800080; text-decoration-color: #800080\">R</span>.AAAAAAAAAAAAAAAGAGAGAK.Q \n",
       "<span style=\"color: #808000; text-decoration-color: #808000\">Charge</span>=<span style=\"color: #008080; text-decoration-color: #008080; font-weight: bold\">3</span> <span style=\"color: #808000; text-decoration-color: #808000\">Parent</span>=<span style=\"color: #008080; text-decoration-color: #008080; font-weight: bold\">532.9533</span> <span style=\"color: #808000; text-decoration-color: #808000\">CE</span>=<span style=\"color: #008080; text-decoration-color: #008080; font-weight: bold\">25.77</span> <span style=\"color: #808000; text-decoration-color: #808000\">NCE</span>=<span style=\"color: #008080; text-decoration-color: #008080; font-weight: bold\">29.22</span> Q-<span style=\"color: #808000; text-decoration-color: #808000\">value</span>=<span style=\"color: #008080; text-decoration-color: #008080; font-weight: bold\">0.0000</span> <span style=\"color: #808000; text-decoration-color: #808000\">Nprot</span>=<span style=\"color: #008080; text-decoration-color: #008080; font-weight: bold\">1</span> <span style=\"color: #808000; text-decoration-color: #808000\">Protein</span>=<span style=\"color: #008000; text-decoration-color: #008000\">\"sp|P55011|S12A2_HUMAN(pre=R,post=Q)\"</span> \n",
       "<span style=\"color: #808000; text-decoration-color: #808000\">Nrep</span>=<span style=\"color: #008080; text-decoration-color: #008080; font-weight: bold\">146</span>/<span style=\"color: #008080; text-decoration-color: #008080; font-weight: bold\">200</span> <span style=\"color: #808000; text-decoration-color: #808000\">Theo_mz_diff</span>=<span style=\"color: #008080; text-decoration-color: #008080; font-weight: bold\">1.</span>0ppm <span style=\"color: #808000; text-decoration-color: #808000\">Quality</span>=<span style=\"color: #008080; text-decoration-color: #008080; font-weight: bold\">7</span>/<span style=\"color: #008080; text-decoration-color: #008080; font-weight: bold\">7</span> <span style=\"color: #808000; text-decoration-color: #808000\">MC</span>=<span style=\"color: #008080; text-decoration-color: #008080; font-weight: bold\">0</span> <span style=\"color: #808000; text-decoration-color: #808000\">MCtype</span>=<span style=\"color: #800080; text-decoration-color: #800080\">Normal</span> <span style=\"color: #808000; text-decoration-color: #808000\">Unassigned_all_20ppm</span>=<span style=\"color: #008080; text-decoration-color: #008080; font-weight: bold\">0.2319</span> <span style=\"color: #808000; text-decoration-color: #808000\">Unassigned_20ppm</span>=<span style=\"color: #008080; text-decoration-color: #008080; font-weight: bold\">0.0668</span>\n",
       "<span style=\"color: #808000; text-decoration-color: #808000\">num_unassigned_peaks_20ppm</span>=<span style=\"color: #008080; text-decoration-color: #008080; font-weight: bold\">67</span> <span style=\"color: #808000; text-decoration-color: #808000\">max_unassigned_ab_20ppm</span>=<span style=\"color: #008080; text-decoration-color: #008080; font-weight: bold\">0.41</span> <span style=\"color: #808000; text-decoration-color: #808000\">top_20_num_unassigned_peaks_20ppm</span>=<span style=\"color: #008080; text-decoration-color: #008080; font-weight: bold\">2</span>/<span style=\"color: #008080; text-decoration-color: #008080; font-weight: bold\">20</span>\n",
       "</pre>\n"
      ],
      "text/plain": [
       "Comment: Consensus \u001b[33mPep\u001b[0m=\u001b[35mTryptic\u001b[0m \u001b[33mPeptype\u001b[0m=\u001b[1m<\u001b[0m\u001b[1;95mProtein\u001b[0m\u001b[1m>\u001b[0m\u001b[1m<\u001b[0m\u001b[1;95mPeptide\u001b[0m\u001b[1m>\u001b[0m\u001b[1m<\u001b[0m\u001b[1;95mProtein\u001b[0m\u001b[1m>\u001b[0m \u001b[33mMods\u001b[0m=\u001b[1;36m0\u001b[0m \u001b[33mFullname\u001b[0m=\u001b[35mR\u001b[0m.AAAAAAAAAAAAAAAGAGAGAK.Q \n",
       "\u001b[33mCharge\u001b[0m=\u001b[1;36m3\u001b[0m \u001b[33mParent\u001b[0m=\u001b[1;36m532\u001b[0m\u001b[1;36m.9533\u001b[0m \u001b[33mCE\u001b[0m=\u001b[1;36m25\u001b[0m\u001b[1;36m.77\u001b[0m \u001b[33mNCE\u001b[0m=\u001b[1;36m29\u001b[0m\u001b[1;36m.22\u001b[0m Q-\u001b[33mvalue\u001b[0m=\u001b[1;36m0\u001b[0m\u001b[1;36m.0000\u001b[0m \u001b[33mNprot\u001b[0m=\u001b[1;36m1\u001b[0m \u001b[33mProtein\u001b[0m=\u001b[32m\"sp\u001b[0m\u001b[32m|P55011|S12A2_HUMAN\u001b[0m\u001b[32m(\u001b[0m\u001b[32mpre\u001b[0m\u001b[32m=\u001b[0m\u001b[32mR\u001b[0m\u001b[32m,\u001b[0m\u001b[32mpost\u001b[0m\u001b[32m=\u001b[0m\u001b[32mQ\u001b[0m\u001b[32m)\u001b[0m\u001b[32m\"\u001b[0m \n",
       "\u001b[33mNrep\u001b[0m=\u001b[1;36m146\u001b[0m/\u001b[1;36m200\u001b[0m \u001b[33mTheo_mz_diff\u001b[0m=\u001b[1;36m1\u001b[0m\u001b[1;36m.\u001b[0m0ppm \u001b[33mQuality\u001b[0m=\u001b[1;36m7\u001b[0m/\u001b[1;36m7\u001b[0m \u001b[33mMC\u001b[0m=\u001b[1;36m0\u001b[0m \u001b[33mMCtype\u001b[0m=\u001b[35mNormal\u001b[0m \u001b[33mUnassigned_all_20ppm\u001b[0m=\u001b[1;36m0\u001b[0m\u001b[1;36m.2319\u001b[0m \u001b[33mUnassigned_20ppm\u001b[0m=\u001b[1;36m0\u001b[0m\u001b[1;36m.0668\u001b[0m\n",
       "\u001b[33mnum_unassigned_peaks_20ppm\u001b[0m=\u001b[1;36m67\u001b[0m \u001b[33mmax_unassigned_ab_20ppm\u001b[0m=\u001b[1;36m0\u001b[0m\u001b[1;36m.41\u001b[0m \u001b[33mtop_20_num_unassigned_peaks_20ppm\u001b[0m=\u001b[1;36m2\u001b[0m/\u001b[1;36m20\u001b[0m\n"
      ]
     },
     "metadata": {},
     "output_type": "display_data"
    },
    {
     "data": {
      "text/html": [
       "<pre style=\"white-space:pre;overflow-x:auto;line-height:normal;font-family:Menlo,'DejaVu Sans Mono',consolas,'Courier New',monospace\">Num peaks: <span style=\"color: #008080; text-decoration-color: #008080; font-weight: bold\">130</span>\n",
       "</pre>\n"
      ],
      "text/plain": [
       "Num peaks: \u001b[1;36m130\u001b[0m\n"
      ]
     },
     "metadata": {},
     "output_type": "display_data"
    },
    {
     "data": {
      "text/html": [
       "<pre style=\"white-space:pre;overflow-x:auto;line-height:normal;font-family:Menlo,'DejaVu Sans Mono',consolas,'Courier New',monospace\"><span style=\"color: #008080; text-decoration-color: #008080; font-weight: bold\">110.0713</span>        <span style=\"color: #008080; text-decoration-color: #008080; font-weight: bold\">376659.9</span>        <span style=\"color: #008000; text-decoration-color: #008000\">\"? 162/200\"</span>\n",
       "</pre>\n"
      ],
      "text/plain": [
       "\u001b[1;36m110.0713\u001b[0m        \u001b[1;36m376659.9\u001b[0m        \u001b[32m\"? 162/200\"\u001b[0m\n"
      ]
     },
     "metadata": {},
     "output_type": "display_data"
    },
    {
     "data": {
      "text/html": [
       "<pre style=\"white-space:pre;overflow-x:auto;line-height:normal;font-family:Menlo,'DejaVu Sans Mono',consolas,'Courier New',monospace\"><span style=\"color: #008080; text-decoration-color: #008080; font-weight: bold\">112.0868</span>        <span style=\"color: #008080; text-decoration-color: #008080; font-weight: bold\">26365.1</span> <span style=\"color: #008000; text-decoration-color: #008000\">\"? 87/200\"</span>\n",
       "</pre>\n"
      ],
      "text/plain": [
       "\u001b[1;36m112.0868\u001b[0m        \u001b[1;36m26365.1\u001b[0m \u001b[32m\"? 87/200\"\u001b[0m\n"
      ]
     },
     "metadata": {},
     "output_type": "display_data"
    },
    {
     "data": {
      "text/html": [
       "<pre style=\"white-space:pre;overflow-x:auto;line-height:normal;font-family:Menlo,'DejaVu Sans Mono',consolas,'Courier New',monospace\"><span style=\"color: #008080; text-decoration-color: #008080; font-weight: bold\">115.0865</span>        <span style=\"color: #008080; text-decoration-color: #008080; font-weight: bold\">976843.8</span>        <span style=\"color: #008000; text-decoration-color: #008000\">\"a2/-0.8ppm 199/200\"</span>\n",
       "</pre>\n"
      ],
      "text/plain": [
       "\u001b[1;36m115.0865\u001b[0m        \u001b[1;36m976843.8\u001b[0m        \u001b[32m\"a2/-0.8ppm 199/200\"\u001b[0m\n"
      ]
     },
     "metadata": {},
     "output_type": "display_data"
    },
    {
     "data": {
      "text/html": [
       "<pre style=\"white-space:pre;overflow-x:auto;line-height:normal;font-family:Menlo,'DejaVu Sans Mono',consolas,'Courier New',monospace\"><span style=\"color: #008080; text-decoration-color: #008080; font-weight: bold\">116.0705</span>        <span style=\"color: #008080; text-decoration-color: #008080; font-weight: bold\">77273.4</span> <span style=\"color: #008000; text-decoration-color: #008000\">\"? 117/200\"</span>\n",
       "</pre>\n"
      ],
      "text/plain": [
       "\u001b[1;36m116.0705\u001b[0m        \u001b[1;36m77273.4\u001b[0m \u001b[32m\"? 117/200\"\u001b[0m\n"
      ]
     },
     "metadata": {},
     "output_type": "display_data"
    },
    {
     "data": {
      "text/html": [
       "<pre style=\"white-space:pre;overflow-x:auto;line-height:normal;font-family:Menlo,'DejaVu Sans Mono',consolas,'Courier New',monospace\"><span style=\"color: #008080; text-decoration-color: #008080; font-weight: bold\">120.0807</span>        <span style=\"color: #008080; text-decoration-color: #008080; font-weight: bold\">709527.5</span>        <span style=\"color: #008000; text-decoration-color: #008000\">\"? 184/200\"</span>\n",
       "</pre>\n"
      ],
      "text/plain": [
       "\u001b[1;36m120.0807\u001b[0m        \u001b[1;36m709527.5\u001b[0m        \u001b[32m\"? 184/200\"\u001b[0m\n"
      ]
     },
     "metadata": {},
     "output_type": "display_data"
    },
    {
     "data": {
      "text/html": [
       "<pre style=\"white-space:pre;overflow-x:auto;line-height:normal;font-family:Menlo,'DejaVu Sans Mono',consolas,'Courier New',monospace\"><span style=\"color: #008080; text-decoration-color: #008080; font-weight: bold\">121.0841</span>        <span style=\"color: #008080; text-decoration-color: #008080; font-weight: bold\">36108.3</span> <span style=\"color: #008000; text-decoration-color: #008000\">\"? 99/200\"</span>\n",
       "</pre>\n"
      ],
      "text/plain": [
       "\u001b[1;36m121.0841\u001b[0m        \u001b[1;36m36108.3\u001b[0m \u001b[32m\"? 99/200\"\u001b[0m\n"
      ]
     },
     "metadata": {},
     "output_type": "display_data"
    },
    {
     "data": {
      "text/html": [
       "<pre style=\"white-space:pre;overflow-x:auto;line-height:normal;font-family:Menlo,'DejaVu Sans Mono',consolas,'Courier New',monospace\"><span style=\"color: #008080; text-decoration-color: #008080; font-weight: bold\">127.0864</span>        <span style=\"color: #008080; text-decoration-color: #008080; font-weight: bold\">39223.7</span> <span style=\"color: #008000; text-decoration-color: #008000\">\"? 110/200\"</span>\n",
       "</pre>\n"
      ],
      "text/plain": [
       "\u001b[1;36m127.0864\u001b[0m        \u001b[1;36m39223.7\u001b[0m \u001b[32m\"? 110/200\"\u001b[0m\n"
      ]
     },
     "metadata": {},
     "output_type": "display_data"
    },
    {
     "data": {
      "text/html": [
       "<pre style=\"white-space:pre;overflow-x:auto;line-height:normal;font-family:Menlo,'DejaVu Sans Mono',consolas,'Courier New',monospace\"><span style=\"color: #008080; text-decoration-color: #008080; font-weight: bold\">129.0656</span>        <span style=\"color: #008080; text-decoration-color: #008080; font-weight: bold\">120230.4</span>        <span style=\"color: #008000; text-decoration-color: #008000\">\"Int/AG/-2.0ppm,Int/GA/-2.0ppm 159/200\"</span>\n",
       "</pre>\n"
      ],
      "text/plain": [
       "\u001b[1;36m129.0656\u001b[0m        \u001b[1;36m120230.4\u001b[0m        \u001b[32m\"Int/AG/-2.0ppm,Int/GA/-2.0ppm 159/200\"\u001b[0m\n"
      ]
     },
     "metadata": {},
     "output_type": "display_data"
    },
    {
     "data": {
      "text/html": [
       "<pre style=\"white-space:pre;overflow-x:auto;line-height:normal;font-family:Menlo,'DejaVu Sans Mono',consolas,'Courier New',monospace\"><span style=\"color: #008080; text-decoration-color: #008080; font-weight: bold\">129.1021</span>        <span style=\"color: #008080; text-decoration-color: #008080; font-weight: bold\">837966.9</span>        <span style=\"color: #008000; text-decoration-color: #008000\">\"IKD/-1.1ppm,y1-H2O/-1.1ppm 197/200\"</span>\n",
       "</pre>\n"
      ],
      "text/plain": [
       "\u001b[1;36m129.1021\u001b[0m        \u001b[1;36m837966.9\u001b[0m        \u001b[32m\"IKD/-1.1ppm,y1-H2O/-1.1ppm 197/200\"\u001b[0m\n"
      ]
     },
     "metadata": {},
     "output_type": "display_data"
    },
    {
     "data": {
      "text/html": [
       "<pre style=\"white-space:pre;overflow-x:auto;line-height:normal;font-family:Menlo,'DejaVu Sans Mono',consolas,'Courier New',monospace\"><span style=\"color: #008080; text-decoration-color: #008080; font-weight: bold\">130.0650</span>        <span style=\"color: #008080; text-decoration-color: #008080; font-weight: bold\">78470.1</span> <span style=\"color: #008000; text-decoration-color: #008000\">\"? 97/200\"</span>\n",
       "</pre>\n"
      ],
      "text/plain": [
       "\u001b[1;36m130.0650\u001b[0m        \u001b[1;36m78470.1\u001b[0m \u001b[32m\"? 97/200\"\u001b[0m\n"
      ]
     },
     "metadata": {},
     "output_type": "display_data"
    },
    {
     "data": {
      "text/html": [
       "<pre style=\"white-space:pre;overflow-x:auto;line-height:normal;font-family:Menlo,'DejaVu Sans Mono',consolas,'Courier New',monospace\"><span style=\"color: #008080; text-decoration-color: #008080; font-weight: bold\">130.0861</span>        <span style=\"color: #008080; text-decoration-color: #008080; font-weight: bold\">278684.1</span>        <span style=\"color: #008000; text-decoration-color: #008000\">\"y1-NH3/-1.2ppm 176/200\"</span>\n",
       "</pre>\n"
      ],
      "text/plain": [
       "\u001b[1;36m130.0861\u001b[0m        \u001b[1;36m278684.1\u001b[0m        \u001b[32m\"y1-NH3/-1.2ppm 176/200\"\u001b[0m\n"
      ]
     },
     "metadata": {},
     "output_type": "display_data"
    },
    {
     "data": {
      "text/html": [
       "<pre style=\"white-space:pre;overflow-x:auto;line-height:normal;font-family:Menlo,'DejaVu Sans Mono',consolas,'Courier New',monospace\"><span style=\"color: #008080; text-decoration-color: #008080; font-weight: bold\">136.0755</span>        <span style=\"color: #008080; text-decoration-color: #008080; font-weight: bold\">497615.3</span>        <span style=\"color: #008000; text-decoration-color: #008000\">\"? 172/200\"</span>\n",
       "</pre>\n"
      ],
      "text/plain": [
       "\u001b[1;36m136.0755\u001b[0m        \u001b[1;36m497615.3\u001b[0m        \u001b[32m\"? 172/200\"\u001b[0m\n"
      ]
     },
     "metadata": {},
     "output_type": "display_data"
    },
    {
     "data": {
      "text/html": [
       "<pre style=\"white-space:pre;overflow-x:auto;line-height:normal;font-family:Menlo,'DejaVu Sans Mono',consolas,'Courier New',monospace\"><span style=\"color: #008080; text-decoration-color: #008080; font-weight: bold\">141.0654</span>        <span style=\"color: #008080; text-decoration-color: #008080; font-weight: bold\">24439.5</span> <span style=\"color: #008000; text-decoration-color: #008000\">\"? 83/200\"</span>\n",
       "</pre>\n"
      ],
      "text/plain": [
       "\u001b[1;36m141.0654\u001b[0m        \u001b[1;36m24439.5\u001b[0m \u001b[32m\"? 83/200\"\u001b[0m\n"
      ]
     },
     "metadata": {},
     "output_type": "display_data"
    },
    {
     "data": {
      "text/html": [
       "<pre style=\"white-space:pre;overflow-x:auto;line-height:normal;font-family:Menlo,'DejaVu Sans Mono',consolas,'Courier New',monospace\"><span style=\"color: #008080; text-decoration-color: #008080; font-weight: bold\">141.1019</span>        <span style=\"color: #008080; text-decoration-color: #008080; font-weight: bold\">131153.1</span>        <span style=\"color: #008000; text-decoration-color: #008000\">\"? 168/200\"</span>\n",
       "</pre>\n"
      ],
      "text/plain": [
       "\u001b[1;36m141.1019\u001b[0m        \u001b[1;36m131153.1\u001b[0m        \u001b[32m\"? 168/200\"\u001b[0m\n"
      ]
     },
     "metadata": {},
     "output_type": "display_data"
    },
    {
     "data": {
      "text/html": [
       "<pre style=\"white-space:pre;overflow-x:auto;line-height:normal;font-family:Menlo,'DejaVu Sans Mono',consolas,'Courier New',monospace\"><span style=\"color: #008080; text-decoration-color: #008080; font-weight: bold\">143.0813</span>        <span style=\"color: #008080; text-decoration-color: #008080; font-weight: bold\">1650641.9</span>       <span style=\"color: #008000; text-decoration-color: #008000\">\"b2/-1.4ppm 200/200\"</span>\n",
       "</pre>\n"
      ],
      "text/plain": [
       "\u001b[1;36m143.0813\u001b[0m        \u001b[1;36m1650641.9\u001b[0m       \u001b[32m\"b2/-1.4ppm 200/200\"\u001b[0m\n"
      ]
     },
     "metadata": {},
     "output_type": "display_data"
    },
    {
     "data": {
      "text/html": [
       "<pre style=\"white-space:pre;overflow-x:auto;line-height:normal;font-family:Menlo,'DejaVu Sans Mono',consolas,'Courier New',monospace\"><span style=\"color: #008080; text-decoration-color: #008080; font-weight: bold\">143.1176</span>        <span style=\"color: #008080; text-decoration-color: #008080; font-weight: bold\">66394.3</span> <span style=\"color: #008000; text-decoration-color: #008000\">\"? 128/200\"</span>\n",
       "</pre>\n"
      ],
      "text/plain": [
       "\u001b[1;36m143.1176\u001b[0m        \u001b[1;36m66394.3\u001b[0m \u001b[32m\"? 128/200\"\u001b[0m\n"
      ]
     },
     "metadata": {},
     "output_type": "display_data"
    },
    {
     "data": {
      "text/html": [
       "<pre style=\"white-space:pre;overflow-x:auto;line-height:normal;font-family:Menlo,'DejaVu Sans Mono',consolas,'Courier New',monospace\"><span style=\"color: #008080; text-decoration-color: #008080; font-weight: bold\">144.0846</span>        <span style=\"color: #008080; text-decoration-color: #008080; font-weight: bold\">37610.0</span> <span style=\"color: #008000; text-decoration-color: #008000\">\"b2+i/2.1ppm 100/200\"</span>\n",
       "</pre>\n"
      ],
      "text/plain": [
       "\u001b[1;36m144.0846\u001b[0m        \u001b[1;36m37610.0\u001b[0m \u001b[32m\"b2+i/2.1ppm 100/200\"\u001b[0m\n"
      ]
     },
     "metadata": {},
     "output_type": "display_data"
    },
    {
     "data": {
      "text/html": [
       "<pre style=\"white-space:pre;overflow-x:auto;line-height:normal;font-family:Menlo,'DejaVu Sans Mono',consolas,'Courier New',monospace\"><span style=\"color: #008080; text-decoration-color: #008080; font-weight: bold\">145.0969</span>        <span style=\"color: #008080; text-decoration-color: #008080; font-weight: bold\">122645.0</span>        <span style=\"color: #008000; text-decoration-color: #008000\">\"? 105/200\"</span>\n",
       "</pre>\n"
      ],
      "text/plain": [
       "\u001b[1;36m145.0969\u001b[0m        \u001b[1;36m122645.0\u001b[0m        \u001b[32m\"? 105/200\"\u001b[0m\n"
      ]
     },
     "metadata": {},
     "output_type": "display_data"
    },
    {
     "data": {
      "text/html": [
       "<pre style=\"white-space:pre;overflow-x:auto;line-height:normal;font-family:Menlo,'DejaVu Sans Mono',consolas,'Courier New',monospace\"><span style=\"color: #008080; text-decoration-color: #008080; font-weight: bold\">147.1125</span>        <span style=\"color: #008080; text-decoration-color: #008080; font-weight: bold\">501370.4</span>        <span style=\"color: #008000; text-decoration-color: #008000\">\"y1/-2.1ppm 199/200\"</span>\n",
       "</pre>\n"
      ],
      "text/plain": [
       "\u001b[1;36m147.1125\u001b[0m        \u001b[1;36m501370.4\u001b[0m        \u001b[32m\"y1/-2.1ppm 199/200\"\u001b[0m\n"
      ]
     },
     "metadata": {},
     "output_type": "display_data"
    },
    {
     "data": {
      "text/html": [
       "<pre style=\"white-space:pre;overflow-x:auto;line-height:normal;font-family:Menlo,'DejaVu Sans Mono',consolas,'Courier New',monospace\"><span style=\"color: #008080; text-decoration-color: #008080; font-weight: bold\">155.0812</span>        <span style=\"color: #008080; text-decoration-color: #008080; font-weight: bold\">104253.9</span>        <span style=\"color: #008000; text-decoration-color: #008000\">\"? 157/200\"</span>\n",
       "</pre>\n"
      ],
      "text/plain": [
       "\u001b[1;36m155.0812\u001b[0m        \u001b[1;36m104253.9\u001b[0m        \u001b[32m\"? 157/200\"\u001b[0m\n"
      ]
     },
     "metadata": {},
     "output_type": "display_data"
    },
    {
     "data": {
      "text/html": [
       "<pre style=\"white-space:pre;overflow-x:auto;line-height:normal;font-family:Menlo,'DejaVu Sans Mono',consolas,'Courier New',monospace\"><span style=\"color: #008080; text-decoration-color: #008080; font-weight: bold\">157.0969</span>        <span style=\"color: #008080; text-decoration-color: #008080; font-weight: bold\">88052.1</span> <span style=\"color: #008000; text-decoration-color: #008000\">\"y1-H2O+CO/-1.6ppm 92/200\"</span>\n",
       "</pre>\n"
      ],
      "text/plain": [
       "\u001b[1;36m157.0969\u001b[0m        \u001b[1;36m88052.1\u001b[0m \u001b[32m\"y1-H2O+CO/-1.6ppm 92/200\"\u001b[0m\n"
      ]
     },
     "metadata": {},
     "output_type": "display_data"
    },
    {
     "data": {
      "text/html": [
       "<pre style=\"white-space:pre;overflow-x:auto;line-height:normal;font-family:Menlo,'DejaVu Sans Mono',consolas,'Courier New',monospace\"><span style=\"color: #008080; text-decoration-color: #008080; font-weight: bold\">157.1333</span>        <span style=\"color: #008080; text-decoration-color: #008080; font-weight: bold\">124590.1</span>        <span style=\"color: #008000; text-decoration-color: #008000\">\"? 122/200\"</span>\n",
       "</pre>\n"
      ],
      "text/plain": [
       "\u001b[1;36m157.1333\u001b[0m        \u001b[1;36m124590.1\u001b[0m        \u001b[32m\"? 122/200\"\u001b[0m\n"
      ]
     },
     "metadata": {},
     "output_type": "display_data"
    },
    {
     "data": {
      "text/html": [
       "<pre style=\"white-space:pre;overflow-x:auto;line-height:normal;font-family:Menlo,'DejaVu Sans Mono',consolas,'Courier New',monospace\"><span style=\"color: #008080; text-decoration-color: #008080; font-weight: bold\">158.0921</span>        <span style=\"color: #008080; text-decoration-color: #008080; font-weight: bold\">80031.4</span> <span style=\"color: #008000; text-decoration-color: #008000\">\"? 124/200\"</span>\n",
       "</pre>\n"
      ],
      "text/plain": [
       "\u001b[1;36m158.0921\u001b[0m        \u001b[1;36m80031.4\u001b[0m \u001b[32m\"? 124/200\"\u001b[0m\n"
      ]
     },
     "metadata": {},
     "output_type": "display_data"
    },
    {
     "data": {
      "text/html": [
       "<pre style=\"white-space:pre;overflow-x:auto;line-height:normal;font-family:Menlo,'DejaVu Sans Mono',consolas,'Courier New',monospace\"><span style=\"color: #008080; text-decoration-color: #008080; font-weight: bold\">159.0913</span>        <span style=\"color: #008080; text-decoration-color: #008080; font-weight: bold\">101163.3</span>        <span style=\"color: #008000; text-decoration-color: #008000\">\"? 105/200\"</span>\n",
       "</pre>\n"
      ],
      "text/plain": [
       "\u001b[1;36m159.0913\u001b[0m        \u001b[1;36m101163.3\u001b[0m        \u001b[32m\"? 105/200\"\u001b[0m\n"
      ]
     },
     "metadata": {},
     "output_type": "display_data"
    },
    {
     "data": {
      "text/html": [
       "<pre style=\"white-space:pre;overflow-x:auto;line-height:normal;font-family:Menlo,'DejaVu Sans Mono',consolas,'Courier New',monospace\"><span style=\"color: #008080; text-decoration-color: #008080; font-weight: bold\">169.0969</span>        <span style=\"color: #008080; text-decoration-color: #008080; font-weight: bold\">643917.5</span>        <span style=\"color: #008000; text-decoration-color: #008000\">\"? 200/200\"</span>\n",
       "</pre>\n"
      ],
      "text/plain": [
       "\u001b[1;36m169.0969\u001b[0m        \u001b[1;36m643917.5\u001b[0m        \u001b[32m\"? 200/200\"\u001b[0m\n"
      ]
     },
     "metadata": {},
     "output_type": "display_data"
    },
    {
     "data": {
      "text/html": [
       "<pre style=\"white-space:pre;overflow-x:auto;line-height:normal;font-family:Menlo,'DejaVu Sans Mono',consolas,'Courier New',monospace\"><span style=\"color: #008080; text-decoration-color: #008080; font-weight: bold\">171.1125</span>        <span style=\"color: #008080; text-decoration-color: #008080; font-weight: bold\">33117.7</span> <span style=\"color: #008000; text-decoration-color: #008000\">\"? 89/200\"</span>\n",
       "</pre>\n"
      ],
      "text/plain": [
       "\u001b[1;36m171.1125\u001b[0m        \u001b[1;36m33117.7\u001b[0m \u001b[32m\"? 89/200\"\u001b[0m\n"
      ]
     },
     "metadata": {},
     "output_type": "display_data"
    },
    {
     "data": {
      "text/html": [
       "<pre style=\"white-space:pre;overflow-x:auto;line-height:normal;font-family:Menlo,'DejaVu Sans Mono',consolas,'Courier New',monospace\"><span style=\"color: #008080; text-decoration-color: #008080; font-weight: bold\">173.0918</span>        <span style=\"color: #008080; text-decoration-color: #008080; font-weight: bold\">129620.3</span>        <span style=\"color: #008000; text-decoration-color: #008000\">\"? 117/200\"</span>\n",
       "</pre>\n"
      ],
      "text/plain": [
       "\u001b[1;36m173.0918\u001b[0m        \u001b[1;36m129620.3\u001b[0m        \u001b[32m\"? 117/200\"\u001b[0m\n"
      ]
     },
     "metadata": {},
     "output_type": "display_data"
    },
    {
     "data": {
      "text/html": [
       "<pre style=\"white-space:pre;overflow-x:auto;line-height:normal;font-family:Menlo,'DejaVu Sans Mono',consolas,'Courier New',monospace\"><span style=\"color: #008080; text-decoration-color: #008080; font-weight: bold\">173.1282</span>        <span style=\"color: #008080; text-decoration-color: #008080; font-weight: bold\">179978.8</span>        <span style=\"color: #008000; text-decoration-color: #008000\">\"? 132/200\"</span>\n",
       "</pre>\n"
      ],
      "text/plain": [
       "\u001b[1;36m173.1282\u001b[0m        \u001b[1;36m179978.8\u001b[0m        \u001b[32m\"? 132/200\"\u001b[0m\n"
      ]
     },
     "metadata": {},
     "output_type": "display_data"
    },
    {
     "data": {
      "text/html": [
       "<pre style=\"white-space:pre;overflow-x:auto;line-height:normal;font-family:Menlo,'DejaVu Sans Mono',consolas,'Courier New',monospace\"><span style=\"color: #008080; text-decoration-color: #008080; font-weight: bold\">175.1187</span>        <span style=\"color: #008080; text-decoration-color: #008080; font-weight: bold\">512150.2</span>        <span style=\"color: #008000; text-decoration-color: #008000\">\"IKF/-1.4ppm 170/200\"</span>\n",
       "</pre>\n"
      ],
      "text/plain": [
       "\u001b[1;36m175.1187\u001b[0m        \u001b[1;36m512150.2\u001b[0m        \u001b[32m\"IKF/-1.4ppm 170/200\"\u001b[0m\n"
      ]
     },
     "metadata": {},
     "output_type": "display_data"
    },
    {
     "data": {
      "text/html": [
       "<pre style=\"white-space:pre;overflow-x:auto;line-height:normal;font-family:Menlo,'DejaVu Sans Mono',consolas,'Courier New',monospace\"><span style=\"color: #008080; text-decoration-color: #008080; font-weight: bold\">183.1126</span>        <span style=\"color: #008080; text-decoration-color: #008080; font-weight: bold\">46509.7</span> <span style=\"color: #008000; text-decoration-color: #008000\">\"y2-H2O-NH3/-1.1ppm 99/200\"</span>\n",
       "</pre>\n"
      ],
      "text/plain": [
       "\u001b[1;36m183.1126\u001b[0m        \u001b[1;36m46509.7\u001b[0m \u001b[32m\"y2-H2O-NH3/-1.1ppm 99/200\"\u001b[0m\n"
      ]
     },
     "metadata": {},
     "output_type": "display_data"
    },
    {
     "data": {
      "text/html": [
       "<pre style=\"white-space:pre;overflow-x:auto;line-height:normal;font-family:Menlo,'DejaVu Sans Mono',consolas,'Courier New',monospace\"><span style=\"color: #008080; text-decoration-color: #008080; font-weight: bold\">183.1488</span>        <span style=\"color: #008080; text-decoration-color: #008080; font-weight: bold\">39077.2</span> <span style=\"color: #008000; text-decoration-color: #008000\">\"? 81/200\"</span>\n",
       "</pre>\n"
      ],
      "text/plain": [
       "\u001b[1;36m183.1488\u001b[0m        \u001b[1;36m39077.2\u001b[0m \u001b[32m\"? 81/200\"\u001b[0m\n"
      ]
     },
     "metadata": {},
     "output_type": "display_data"
    },
    {
     "data": {
      "text/html": [
       "<pre style=\"white-space:pre;overflow-x:auto;line-height:normal;font-family:Menlo,'DejaVu Sans Mono',consolas,'Courier New',monospace\"><span style=\"color: #008080; text-decoration-color: #008080; font-weight: bold\">185.0918</span>        <span style=\"color: #008080; text-decoration-color: #008080; font-weight: bold\">41110.8</span> <span style=\"color: #008000; text-decoration-color: #008000\">\"? 88/200\"</span>\n",
       "</pre>\n"
      ],
      "text/plain": [
       "\u001b[1;36m185.0918\u001b[0m        \u001b[1;36m41110.8\u001b[0m \u001b[32m\"? 88/200\"\u001b[0m\n"
      ]
     },
     "metadata": {},
     "output_type": "display_data"
    },
    {
     "data": {
      "text/html": [
       "<pre style=\"white-space:pre;overflow-x:auto;line-height:normal;font-family:Menlo,'DejaVu Sans Mono',consolas,'Courier New',monospace\"><span style=\"color: #008080; text-decoration-color: #008080; font-weight: bold\">185.1281</span>        <span style=\"color: #008080; text-decoration-color: #008080; font-weight: bold\">76095.7</span> <span style=\"color: #008000; text-decoration-color: #008000\">\"? 101/200\"</span>\n",
       "</pre>\n"
      ],
      "text/plain": [
       "\u001b[1;36m185.1281\u001b[0m        \u001b[1;36m76095.7\u001b[0m \u001b[32m\"? 101/200\"\u001b[0m\n"
      ]
     },
     "metadata": {},
     "output_type": "display_data"
    },
    {
     "data": {
      "text/html": [
       "<pre style=\"white-space:pre;overflow-x:auto;line-height:normal;font-family:Menlo,'DejaVu Sans Mono',consolas,'Courier New',monospace\"><span style=\"color: #008080; text-decoration-color: #008080; font-weight: bold\">185.1646</span>        <span style=\"color: #008080; text-decoration-color: #008080; font-weight: bold\">83652.3</span> <span style=\"color: #008000; text-decoration-color: #008000\">\"? 120/200\"</span>\n",
       "</pre>\n"
      ],
      "text/plain": [
       "\u001b[1;36m185.1646\u001b[0m        \u001b[1;36m83652.3\u001b[0m \u001b[32m\"? 120/200\"\u001b[0m\n"
      ]
     },
     "metadata": {},
     "output_type": "display_data"
    },
    {
     "data": {
      "text/html": [
       "<pre style=\"white-space:pre;overflow-x:auto;line-height:normal;font-family:Menlo,'DejaVu Sans Mono',consolas,'Courier New',monospace\"><span style=\"color: #008080; text-decoration-color: #008080; font-weight: bold\">186.0871</span>        <span style=\"color: #008080; text-decoration-color: #008080; font-weight: bold\">103261.4</span>        <span style=\"color: #008000; text-decoration-color: #008000\">\"? 145/200\"</span>\n",
       "</pre>\n"
      ],
      "text/plain": [
       "\u001b[1;36m186.0871\u001b[0m        \u001b[1;36m103261.4\u001b[0m        \u001b[32m\"? 145/200\"\u001b[0m\n"
      ]
     },
     "metadata": {},
     "output_type": "display_data"
    },
    {
     "data": {
      "text/html": [
       "<pre style=\"white-space:pre;overflow-x:auto;line-height:normal;font-family:Menlo,'DejaVu Sans Mono',consolas,'Courier New',monospace\"><span style=\"color: #008080; text-decoration-color: #008080; font-weight: bold\">187.1438</span>        <span style=\"color: #008080; text-decoration-color: #008080; font-weight: bold\">127865.3</span>        <span style=\"color: #008000; text-decoration-color: #008000\">\"? 124/200\"</span>\n",
       "</pre>\n"
      ],
      "text/plain": [
       "\u001b[1;36m187.1438\u001b[0m        \u001b[1;36m127865.3\u001b[0m        \u001b[32m\"? 124/200\"\u001b[0m\n"
      ]
     },
     "metadata": {},
     "output_type": "display_data"
    },
    {
     "data": {
      "text/html": [
       "<pre style=\"white-space:pre;overflow-x:auto;line-height:normal;font-family:Menlo,'DejaVu Sans Mono',consolas,'Courier New',monospace\"><span style=\"color: #008080; text-decoration-color: #008080; font-weight: bold\">197.1281</span>        <span style=\"color: #008080; text-decoration-color: #008080; font-weight: bold\">85728.6</span> <span style=\"color: #008000; text-decoration-color: #008000\">\"? 120/200\"</span>\n",
       "</pre>\n"
      ],
      "text/plain": [
       "\u001b[1;36m197.1281\u001b[0m        \u001b[1;36m85728.6\u001b[0m \u001b[32m\"? 120/200\"\u001b[0m\n"
      ]
     },
     "metadata": {},
     "output_type": "display_data"
    },
    {
     "data": {
      "text/html": [
       "<pre style=\"white-space:pre;overflow-x:auto;line-height:normal;font-family:Menlo,'DejaVu Sans Mono',consolas,'Courier New',monospace\"><span style=\"color: #008080; text-decoration-color: #008080; font-weight: bold\">199.1802</span>        <span style=\"color: #008080; text-decoration-color: #008080; font-weight: bold\">131493.1</span>        <span style=\"color: #008000; text-decoration-color: #008000\">\"? 121/200\"</span>\n",
       "</pre>\n"
      ],
      "text/plain": [
       "\u001b[1;36m199.1802\u001b[0m        \u001b[1;36m131493.1\u001b[0m        \u001b[32m\"? 121/200\"\u001b[0m\n"
      ]
     },
     "metadata": {},
     "output_type": "display_data"
    },
    {
     "data": {
      "text/html": [
       "<pre style=\"white-space:pre;overflow-x:auto;line-height:normal;font-family:Menlo,'DejaVu Sans Mono',consolas,'Courier New',monospace\"><span style=\"color: #008080; text-decoration-color: #008080; font-weight: bold\">200.1027</span>        <span style=\"color: #008080; text-decoration-color: #008080; font-weight: bold\">93493.7</span> <span style=\"color: #008000; text-decoration-color: #008000\">\"? 149/200\"</span>\n",
       "</pre>\n"
      ],
      "text/plain": [
       "\u001b[1;36m200.1027\u001b[0m        \u001b[1;36m93493.7\u001b[0m \u001b[32m\"? 149/200\"\u001b[0m\n"
      ]
     },
     "metadata": {},
     "output_type": "display_data"
    },
    {
     "data": {
      "text/html": [
       "<pre style=\"white-space:pre;overflow-x:auto;line-height:normal;font-family:Menlo,'DejaVu Sans Mono',consolas,'Courier New',monospace\"><span style=\"color: #008080; text-decoration-color: #008080; font-weight: bold\">200.1391</span>        <span style=\"color: #008080; text-decoration-color: #008080; font-weight: bold\">59859.0</span> <span style=\"color: #008000; text-decoration-color: #008000\">\"y2-H2O/-1.3ppm 113/200\"</span>\n",
       "</pre>\n"
      ],
      "text/plain": [
       "\u001b[1;36m200.1391\u001b[0m        \u001b[1;36m59859.0\u001b[0m \u001b[32m\"y2-H2O/-1.3ppm 113/200\"\u001b[0m\n"
      ]
     },
     "metadata": {},
     "output_type": "display_data"
    },
    {
     "data": {
      "text/html": [
       "<pre style=\"white-space:pre;overflow-x:auto;line-height:normal;font-family:Menlo,'DejaVu Sans Mono',consolas,'Courier New',monospace\"><span style=\"color: #008080; text-decoration-color: #008080; font-weight: bold\">201.1230</span>        <span style=\"color: #008080; text-decoration-color: #008080; font-weight: bold\">166715.8</span>        <span style=\"color: #008000; text-decoration-color: #008000\">\"y2-NH3/-1.8ppm 155/200\"</span>\n",
       "</pre>\n"
      ],
      "text/plain": [
       "\u001b[1;36m201.1230\u001b[0m        \u001b[1;36m166715.8\u001b[0m        \u001b[32m\"y2-NH3/-1.8ppm 155/200\"\u001b[0m\n"
      ]
     },
     "metadata": {},
     "output_type": "display_data"
    },
    {
     "data": {
      "text/html": [
       "<pre style=\"white-space:pre;overflow-x:auto;line-height:normal;font-family:Menlo,'DejaVu Sans Mono',consolas,'Courier New',monospace\"><span style=\"color: #008080; text-decoration-color: #008080; font-weight: bold\">207.1124</span>        <span style=\"color: #008080; text-decoration-color: #008080; font-weight: bold\">83900.1</span> <span style=\"color: #008000; text-decoration-color: #008000\">\"? 118/200\"</span>\n",
       "</pre>\n"
      ],
      "text/plain": [
       "\u001b[1;36m207.1124\u001b[0m        \u001b[1;36m83900.1\u001b[0m \u001b[32m\"? 118/200\"\u001b[0m\n"
      ]
     },
     "metadata": {},
     "output_type": "display_data"
    },
    {
     "data": {
      "text/html": [
       "<pre style=\"white-space:pre;overflow-x:auto;line-height:normal;font-family:Menlo,'DejaVu Sans Mono',consolas,'Courier New',monospace\"><span style=\"color: #008080; text-decoration-color: #008080; font-weight: bold\">212.1026</span>        <span style=\"color: #008080; text-decoration-color: #008080; font-weight: bold\">80474.5</span> <span style=\"color: #008000; text-decoration-color: #008000\">\"? 145/200\"</span>\n",
       "</pre>\n"
      ],
      "text/plain": [
       "\u001b[1;36m212.1026\u001b[0m        \u001b[1;36m80474.5\u001b[0m \u001b[32m\"? 145/200\"\u001b[0m\n"
      ]
     },
     "metadata": {},
     "output_type": "display_data"
    },
    {
     "data": {
      "text/html": [
       "<pre style=\"white-space:pre;overflow-x:auto;line-height:normal;font-family:Menlo,'DejaVu Sans Mono',consolas,'Courier New',monospace\"><span style=\"color: #008080; text-decoration-color: #008080; font-weight: bold\">214.1182</span>        <span style=\"color: #008080; text-decoration-color: #008080; font-weight: bold\">1720602.1</span>       <span style=\"color: #008000; text-decoration-color: #008000\">\"b3/-1.9ppm 200/200\"</span>\n",
       "</pre>\n"
      ],
      "text/plain": [
       "\u001b[1;36m214.1182\u001b[0m        \u001b[1;36m1720602.1\u001b[0m       \u001b[32m\"b3/-1.9ppm 200/200\"\u001b[0m\n"
      ]
     },
     "metadata": {},
     "output_type": "display_data"
    },
    {
     "data": {
      "text/html": [
       "<pre style=\"white-space:pre;overflow-x:auto;line-height:normal;font-family:Menlo,'DejaVu Sans Mono',consolas,'Courier New',monospace\"><span style=\"color: #008080; text-decoration-color: #008080; font-weight: bold\">215.1210</span>        <span style=\"color: #008080; text-decoration-color: #008080; font-weight: bold\">88701.3</span> <span style=\"color: #008000; text-decoration-color: #008000\">\"b3+i/-1.9ppm 154/200\"</span>\n",
       "</pre>\n"
      ],
      "text/plain": [
       "\u001b[1;36m215.1210\u001b[0m        \u001b[1;36m88701.3\u001b[0m \u001b[32m\"b3+i/-1.9ppm 154/200\"\u001b[0m\n"
      ]
     },
     "metadata": {},
     "output_type": "display_data"
    },
    {
     "data": {
      "text/html": [
       "<pre style=\"white-space:pre;overflow-x:auto;line-height:normal;font-family:Menlo,'DejaVu Sans Mono',consolas,'Courier New',monospace\"><span style=\"color: #008080; text-decoration-color: #008080; font-weight: bold\">215.1391</span>        <span style=\"color: #008080; text-decoration-color: #008080; font-weight: bold\">117784.4</span>        <span style=\"color: #008000; text-decoration-color: #008000\">\"? 132/200\"</span>\n",
       "</pre>\n"
      ],
      "text/plain": [
       "\u001b[1;36m215.1391\u001b[0m        \u001b[1;36m117784.4\u001b[0m        \u001b[32m\"? 132/200\"\u001b[0m\n"
      ]
     },
     "metadata": {},
     "output_type": "display_data"
    },
    {
     "data": {
      "text/html": [
       "<pre style=\"white-space:pre;overflow-x:auto;line-height:normal;font-family:Menlo,'DejaVu Sans Mono',consolas,'Courier New',monospace\"><span style=\"color: #008080; text-decoration-color: #008080; font-weight: bold\">218.1496</span>        <span style=\"color: #008080; text-decoration-color: #008080; font-weight: bold\">175038.2</span>        <span style=\"color: #008000; text-decoration-color: #008000\">\"y2/-1.5ppm 195/200\"</span>\n",
       "</pre>\n"
      ],
      "text/plain": [
       "\u001b[1;36m218.1496\u001b[0m        \u001b[1;36m175038.2\u001b[0m        \u001b[32m\"y2/-1.5ppm 195/200\"\u001b[0m\n"
      ]
     },
     "metadata": {},
     "output_type": "display_data"
    },
    {
     "data": {
      "text/html": [
       "<pre style=\"white-space:pre;overflow-x:auto;line-height:normal;font-family:Menlo,'DejaVu Sans Mono',consolas,'Courier New',monospace\"><span style=\"color: #008080; text-decoration-color: #008080; font-weight: bold\">226.1185</span>        <span style=\"color: #008080; text-decoration-color: #008080; font-weight: bold\">89951.3</span> <span style=\"color: #008000; text-decoration-color: #008000\">\"? 140/200\"</span>\n",
       "</pre>\n"
      ],
      "text/plain": [
       "\u001b[1;36m226.1185\u001b[0m        \u001b[1;36m89951.3\u001b[0m \u001b[32m\"? 140/200\"\u001b[0m\n"
      ]
     },
     "metadata": {},
     "output_type": "display_data"
    },
    {
     "data": {
      "text/html": [
       "<pre style=\"white-space:pre;overflow-x:auto;line-height:normal;font-family:Menlo,'DejaVu Sans Mono',consolas,'Courier New',monospace\"><span style=\"color: #008080; text-decoration-color: #008080; font-weight: bold\">229.1298</span>        <span style=\"color: #008080; text-decoration-color: #008080; font-weight: bold\">78559.8</span> <span style=\"color: #008000; text-decoration-color: #008000\">\"? 141/200\"</span>\n",
       "</pre>\n"
      ],
      "text/plain": [
       "\u001b[1;36m229.1298\u001b[0m        \u001b[1;36m78559.8\u001b[0m \u001b[32m\"? 141/200\"\u001b[0m\n"
      ]
     },
     "metadata": {},
     "output_type": "display_data"
    },
    {
     "data": {
      "text/html": [
       "<pre style=\"white-space:pre;overflow-x:auto;line-height:normal;font-family:Menlo,'DejaVu Sans Mono',consolas,'Courier New',monospace\"><span style=\"color: #008080; text-decoration-color: #008080; font-weight: bold\">233.1643</span>        <span style=\"color: #008080; text-decoration-color: #008080; font-weight: bold\">81456.4</span> <span style=\"color: #008000; text-decoration-color: #008000\">\"? 106/200\"</span>\n",
       "</pre>\n"
      ],
      "text/plain": [
       "\u001b[1;36m233.1643\u001b[0m        \u001b[1;36m81456.4\u001b[0m \u001b[32m\"? 106/200\"\u001b[0m\n"
      ]
     },
     "metadata": {},
     "output_type": "display_data"
    },
    {
     "data": {
      "text/html": [
       "<pre style=\"white-space:pre;overflow-x:auto;line-height:normal;font-family:Menlo,'DejaVu Sans Mono',consolas,'Courier New',monospace\"><span style=\"color: #008080; text-decoration-color: #008080; font-weight: bold\">240.1337</span>        <span style=\"color: #008080; text-decoration-color: #008080; font-weight: bold\">450152.0</span>        <span style=\"color: #008000; text-decoration-color: #008000\">\"y3-H2O-NH3/-2.4ppm 196/200\"</span>\n",
       "</pre>\n"
      ],
      "text/plain": [
       "\u001b[1;36m240.1337\u001b[0m        \u001b[1;36m450152.0\u001b[0m        \u001b[32m\"y3-H2O-NH3/-2.4ppm 196/200\"\u001b[0m\n"
      ]
     },
     "metadata": {},
     "output_type": "display_data"
    },
    {
     "data": {
      "text/html": [
       "<pre style=\"white-space:pre;overflow-x:auto;line-height:normal;font-family:Menlo,'DejaVu Sans Mono',consolas,'Courier New',monospace\"><span style=\"color: #008080; text-decoration-color: #008080; font-weight: bold\">242.1129</span>        <span style=\"color: #008080; text-decoration-color: #008080; font-weight: bold\">48447.8</span> <span style=\"color: #008000; text-decoration-color: #008000\">\"? 121/200\"</span>\n",
       "</pre>\n"
      ],
      "text/plain": [
       "\u001b[1;36m242.1129\u001b[0m        \u001b[1;36m48447.8\u001b[0m \u001b[32m\"? 121/200\"\u001b[0m\n"
      ]
     },
     "metadata": {},
     "output_type": "display_data"
    },
    {
     "data": {
      "text/html": [
       "<pre style=\"white-space:pre;overflow-x:auto;line-height:normal;font-family:Menlo,'DejaVu Sans Mono',consolas,'Courier New',monospace\"><span style=\"color: #008080; text-decoration-color: #008080; font-weight: bold\">242.1493</span>        <span style=\"color: #008080; text-decoration-color: #008080; font-weight: bold\">62435.4</span> <span style=\"color: #008000; text-decoration-color: #008000\">\"? 88/200\"</span>\n",
       "</pre>\n"
      ],
      "text/plain": [
       "\u001b[1;36m242.1493\u001b[0m        \u001b[1;36m62435.4\u001b[0m \u001b[32m\"? 88/200\"\u001b[0m\n"
      ]
     },
     "metadata": {},
     "output_type": "display_data"
    },
    {
     "data": {
      "text/html": [
       "<pre style=\"white-space:pre;overflow-x:auto;line-height:normal;font-family:Menlo,'DejaVu Sans Mono',consolas,'Courier New',monospace\"><span style=\"color: #008080; text-decoration-color: #008080; font-weight: bold\">244.1652</span>        <span style=\"color: #008080; text-decoration-color: #008080; font-weight: bold\">88565.7</span> <span style=\"color: #008000; text-decoration-color: #008000\">\"? 110/200\"</span>\n",
       "</pre>\n"
      ],
      "text/plain": [
       "\u001b[1;36m244.1652\u001b[0m        \u001b[1;36m88565.7\u001b[0m \u001b[32m\"? 110/200\"\u001b[0m\n"
      ]
     },
     "metadata": {},
     "output_type": "display_data"
    },
    {
     "data": {
      "text/html": [
       "<pre style=\"white-space:pre;overflow-x:auto;line-height:normal;font-family:Menlo,'DejaVu Sans Mono',consolas,'Courier New',monospace\"><span style=\"color: #008080; text-decoration-color: #008080; font-weight: bold\">257.1240</span>        <span style=\"color: #008080; text-decoration-color: #008080; font-weight: bold\">136808.4</span>        <span style=\"color: #008000; text-decoration-color: #008000\">\"? 174/200\"</span>\n",
       "</pre>\n"
      ],
      "text/plain": [
       "\u001b[1;36m257.1240\u001b[0m        \u001b[1;36m136808.4\u001b[0m        \u001b[32m\"? 174/200\"\u001b[0m\n"
      ]
     },
     "metadata": {},
     "output_type": "display_data"
    },
    {
     "data": {
      "text/html": [
       "<pre style=\"white-space:pre;overflow-x:auto;line-height:normal;font-family:Menlo,'DejaVu Sans Mono',consolas,'Courier New',monospace\"><span style=\"color: #008080; text-decoration-color: #008080; font-weight: bold\">257.1603</span>        <span style=\"color: #008080; text-decoration-color: #008080; font-weight: bold\">403576.9</span>        <span style=\"color: #008000; text-decoration-color: #008000\">\"y3-H2O/-2.0ppm,a4/-2.0ppm 199/200\"</span>\n",
       "</pre>\n"
      ],
      "text/plain": [
       "\u001b[1;36m257.1603\u001b[0m        \u001b[1;36m403576.9\u001b[0m        \u001b[32m\"y3-H2O/-2.0ppm,a4/-2.0ppm 199/200\"\u001b[0m\n"
      ]
     },
     "metadata": {},
     "output_type": "display_data"
    },
    {
     "data": {
      "text/html": [
       "<pre style=\"white-space:pre;overflow-x:auto;line-height:normal;font-family:Menlo,'DejaVu Sans Mono',consolas,'Courier New',monospace\"><span style=\"color: #008080; text-decoration-color: #008080; font-weight: bold\">269.1238</span>        <span style=\"color: #008080; text-decoration-color: #008080; font-weight: bold\">23072.4</span> <span style=\"color: #008000; text-decoration-color: #008000\">\"? 86/200\"</span>\n",
       "</pre>\n"
      ],
      "text/plain": [
       "\u001b[1;36m269.1238\u001b[0m        \u001b[1;36m23072.4\u001b[0m \u001b[32m\"? 86/200\"\u001b[0m\n"
      ]
     },
     "metadata": {},
     "output_type": "display_data"
    },
    {
     "data": {
      "text/html": [
       "<pre style=\"white-space:pre;overflow-x:auto;line-height:normal;font-family:Menlo,'DejaVu Sans Mono',consolas,'Courier New',monospace\"><span style=\"color: #008080; text-decoration-color: #008080; font-weight: bold\">271.1396</span>        <span style=\"color: #008080; text-decoration-color: #008080; font-weight: bold\">33689.8</span> <span style=\"color: #008000; text-decoration-color: #008000\">\"? 106/200\"</span>\n",
       "</pre>\n"
      ],
      "text/plain": [
       "\u001b[1;36m271.1396\u001b[0m        \u001b[1;36m33689.8\u001b[0m \u001b[32m\"? 106/200\"\u001b[0m\n"
      ]
     },
     "metadata": {},
     "output_type": "display_data"
    },
    {
     "data": {
      "text/html": [
       "<pre style=\"white-space:pre;overflow-x:auto;line-height:normal;font-family:Menlo,'DejaVu Sans Mono',consolas,'Courier New',monospace\"><span style=\"color: #008080; text-decoration-color: #008080; font-weight: bold\">275.1708</span>        <span style=\"color: #008080; text-decoration-color: #008080; font-weight: bold\">524763.6</span>        <span style=\"color: #008000; text-decoration-color: #008000\">\"y3/-2.1ppm 200/200\"</span>\n",
       "</pre>\n"
      ],
      "text/plain": [
       "\u001b[1;36m275.1708\u001b[0m        \u001b[1;36m524763.6\u001b[0m        \u001b[32m\"y3/-2.1ppm 200/200\"\u001b[0m\n"
      ]
     },
     "metadata": {},
     "output_type": "display_data"
    },
    {
     "data": {
      "text/html": [
       "<pre style=\"white-space:pre;overflow-x:auto;line-height:normal;font-family:Menlo,'DejaVu Sans Mono',consolas,'Courier New',monospace\"><span style=\"color: #008080; text-decoration-color: #008080; font-weight: bold\">276.1734</span>        <span style=\"color: #008080; text-decoration-color: #008080; font-weight: bold\">24473.7</span> <span style=\"color: #008000; text-decoration-color: #008000\">\"y3+i/-2.6ppm 81/200\"</span>\n",
       "</pre>\n"
      ],
      "text/plain": [
       "\u001b[1;36m276.1734\u001b[0m        \u001b[1;36m24473.7\u001b[0m \u001b[32m\"y3+i/-2.6ppm 81/200\"\u001b[0m\n"
      ]
     },
     "metadata": {},
     "output_type": "display_data"
    },
    {
     "data": {
      "text/html": [
       "<pre style=\"white-space:pre;overflow-x:auto;line-height:normal;font-family:Menlo,'DejaVu Sans Mono',consolas,'Courier New',monospace\"><span style=\"color: #008080; text-decoration-color: #008080; font-weight: bold\">283.1398</span>        <span style=\"color: #008080; text-decoration-color: #008080; font-weight: bold\">168331.2</span>        <span style=\"color: #008000; text-decoration-color: #008000\">\"? 179/200\"</span>\n",
       "</pre>\n"
      ],
      "text/plain": [
       "\u001b[1;36m283.1398\u001b[0m        \u001b[1;36m168331.2\u001b[0m        \u001b[32m\"? 179/200\"\u001b[0m\n"
      ]
     },
     "metadata": {},
     "output_type": "display_data"
    },
    {
     "data": {
      "text/html": [
       "<pre style=\"white-space:pre;overflow-x:auto;line-height:normal;font-family:Menlo,'DejaVu Sans Mono',consolas,'Courier New',monospace\"><span style=\"color: #008080; text-decoration-color: #008080; font-weight: bold\">285.1552</span>        <span style=\"color: #008080; text-decoration-color: #008080; font-weight: bold\">1284026.4</span>       <span style=\"color: #008000; text-decoration-color: #008000\">\"b4/-1.9ppm,y3-H2O+CO/-1.9ppm 200/200\"</span>\n",
       "</pre>\n"
      ],
      "text/plain": [
       "\u001b[1;36m285.1552\u001b[0m        \u001b[1;36m1284026.4\u001b[0m       \u001b[32m\"b4/-1.9ppm,y3-H2O+CO/-1.9ppm 200/200\"\u001b[0m\n"
      ]
     },
     "metadata": {},
     "output_type": "display_data"
    },
    {
     "data": {
      "text/html": [
       "<pre style=\"white-space:pre;overflow-x:auto;line-height:normal;font-family:Menlo,'DejaVu Sans Mono',consolas,'Courier New',monospace\"><span style=\"color: #008080; text-decoration-color: #008080; font-weight: bold\">286.1556</span>        <span style=\"color: #008080; text-decoration-color: #008080; font-weight: bold\">103953.1</span>        <span style=\"color: #008000; text-decoration-color: #008000\">\"b4+i/-10.2ppm,y3-H2O+CO+i/-10.2ppm 146/200\"</span>\n",
       "</pre>\n"
      ],
      "text/plain": [
       "\u001b[1;36m286.1556\u001b[0m        \u001b[1;36m103953.1\u001b[0m        \u001b[32m\"b4+i/-10.2ppm,y3-H2O+CO+i/-10.2ppm 146/200\"\u001b[0m\n"
      ]
     },
     "metadata": {},
     "output_type": "display_data"
    },
    {
     "data": {
      "text/html": [
       "<pre style=\"white-space:pre;overflow-x:auto;line-height:normal;font-family:Menlo,'DejaVu Sans Mono',consolas,'Courier New',monospace\"><span style=\"color: #008080; text-decoration-color: #008080; font-weight: bold\">288.2024</span>        <span style=\"color: #008080; text-decoration-color: #008080; font-weight: bold\">117859.2</span>        <span style=\"color: #008000; text-decoration-color: #008000\">\"? 122/200\"</span>\n",
       "</pre>\n"
      ],
      "text/plain": [
       "\u001b[1;36m288.2024\u001b[0m        \u001b[1;36m117859.2\u001b[0m        \u001b[32m\"? 122/200\"\u001b[0m\n"
      ]
     },
     "metadata": {},
     "output_type": "display_data"
    },
    {
     "data": {
      "text/html": [
       "<pre style=\"white-space:pre;overflow-x:auto;line-height:normal;font-family:Menlo,'DejaVu Sans Mono',consolas,'Courier New',monospace\"><span style=\"color: #008080; text-decoration-color: #008080; font-weight: bold\">297.1551</span>        <span style=\"color: #008080; text-decoration-color: #008080; font-weight: bold\">36497.1</span> <span style=\"color: #008000; text-decoration-color: #008000\">\"? 107/200\"</span>\n",
       "</pre>\n"
      ],
      "text/plain": [
       "\u001b[1;36m297.1551\u001b[0m        \u001b[1;36m36497.1\u001b[0m \u001b[32m\"? 107/200\"\u001b[0m\n"
      ]
     },
     "metadata": {},
     "output_type": "display_data"
    },
    {
     "data": {
      "text/html": [
       "<pre style=\"white-space:pre;overflow-x:auto;line-height:normal;font-family:Menlo,'DejaVu Sans Mono',consolas,'Courier New',monospace\"><span style=\"color: #008080; text-decoration-color: #008080; font-weight: bold\">300.1653</span>        <span style=\"color: #008080; text-decoration-color: #008080; font-weight: bold\">56582.3</span> <span style=\"color: #008000; text-decoration-color: #008000\">\"? 129/200\"</span>\n",
       "</pre>\n"
      ],
      "text/plain": [
       "\u001b[1;36m300.1653\u001b[0m        \u001b[1;36m56582.3\u001b[0m \u001b[32m\"? 129/200\"\u001b[0m\n"
      ]
     },
     "metadata": {},
     "output_type": "display_data"
    },
    {
     "data": {
      "text/html": [
       "<pre style=\"white-space:pre;overflow-x:auto;line-height:normal;font-family:Menlo,'DejaVu Sans Mono',consolas,'Courier New',monospace\"><span style=\"color: #008080; text-decoration-color: #008080; font-weight: bold\">311.1707</span>        <span style=\"color: #008080; text-decoration-color: #008080; font-weight: bold\">611691.1</span>        <span style=\"color: #008000; text-decoration-color: #008000\">\"y4-H2O-NH3/-2.2ppm 199/200\"</span>\n",
       "</pre>\n"
      ],
      "text/plain": [
       "\u001b[1;36m311.1707\u001b[0m        \u001b[1;36m611691.1\u001b[0m        \u001b[32m\"y4-H2O-NH3/-2.2ppm 199/200\"\u001b[0m\n"
      ]
     },
     "metadata": {},
     "output_type": "display_data"
    },
    {
     "data": {
      "text/html": [
       "<pre style=\"white-space:pre;overflow-x:auto;line-height:normal;font-family:Menlo,'DejaVu Sans Mono',consolas,'Courier New',monospace\"><span style=\"color: #008080; text-decoration-color: #008080; font-weight: bold\">312.1746</span>        <span style=\"color: #008080; text-decoration-color: #008080; font-weight: bold\">69949.4</span> <span style=\"color: #008000; text-decoration-color: #008000\">\"y4-H2O-NH3+i/1.1ppm 103/200\"</span>\n",
       "</pre>\n"
      ],
      "text/plain": [
       "\u001b[1;36m312.1746\u001b[0m        \u001b[1;36m69949.4\u001b[0m \u001b[32m\"y4-H2O-NH3+i/1.1ppm 103/200\"\u001b[0m\n"
      ]
     },
     "metadata": {},
     "output_type": "display_data"
    },
    {
     "data": {
      "text/html": [
       "<pre style=\"white-space:pre;overflow-x:auto;line-height:normal;font-family:Menlo,'DejaVu Sans Mono',consolas,'Courier New',monospace\"><span style=\"color: #008080; text-decoration-color: #008080; font-weight: bold\">313.1501</span>        <span style=\"color: #008080; text-decoration-color: #008080; font-weight: bold\">73670.7</span> <span style=\"color: #008000; text-decoration-color: #008000\">\"? 145/200\"</span>\n",
       "</pre>\n"
      ],
      "text/plain": [
       "\u001b[1;36m313.1501\u001b[0m        \u001b[1;36m73670.7\u001b[0m \u001b[32m\"? 145/200\"\u001b[0m\n"
      ]
     },
     "metadata": {},
     "output_type": "display_data"
    },
    {
     "data": {
      "text/html": [
       "<pre style=\"white-space:pre;overflow-x:auto;line-height:normal;font-family:Menlo,'DejaVu Sans Mono',consolas,'Courier New',monospace\"><span style=\"color: #008080; text-decoration-color: #008080; font-weight: bold\">314.1460</span>        <span style=\"color: #008080; text-decoration-color: #008080; font-weight: bold\">44067.7</span> <span style=\"color: #008000; text-decoration-color: #008000\">\"? 117/200\"</span>\n",
       "</pre>\n"
      ],
      "text/plain": [
       "\u001b[1;36m314.1460\u001b[0m        \u001b[1;36m44067.7\u001b[0m \u001b[32m\"? 117/200\"\u001b[0m\n"
      ]
     },
     "metadata": {},
     "output_type": "display_data"
    },
    {
     "data": {
      "text/html": [
       "<pre style=\"white-space:pre;overflow-x:auto;line-height:normal;font-family:Menlo,'DejaVu Sans Mono',consolas,'Courier New',monospace\"><span style=\"color: #008080; text-decoration-color: #008080; font-weight: bold\">320.6738</span>        <span style=\"color: #008080; text-decoration-color: #008080; font-weight: bold\">222559.7</span>        <span style=\"color: #008000; text-decoration-color: #008000\">\"? 170/200\"</span>\n",
       "</pre>\n"
      ],
      "text/plain": [
       "\u001b[1;36m320.6738\u001b[0m        \u001b[1;36m222559.7\u001b[0m        \u001b[32m\"? 170/200\"\u001b[0m\n"
      ]
     },
     "metadata": {},
     "output_type": "display_data"
    },
    {
     "data": {
      "text/html": [
       "<pre style=\"white-space:pre;overflow-x:auto;line-height:normal;font-family:Menlo,'DejaVu Sans Mono',consolas,'Courier New',monospace\"><span style=\"color: #008080; text-decoration-color: #008080; font-weight: bold\">321.1754</span>        <span style=\"color: #008080; text-decoration-color: #008080; font-weight: bold\">26037.2</span> <span style=\"color: #008000; text-decoration-color: #008000\">\"? 83/200\"</span>\n",
       "</pre>\n"
      ],
      "text/plain": [
       "\u001b[1;36m321.1754\u001b[0m        \u001b[1;36m26037.2\u001b[0m \u001b[32m\"? 83/200\"\u001b[0m\n"
      ]
     },
     "metadata": {},
     "output_type": "display_data"
    },
    {
     "data": {
      "text/html": [
       "<pre style=\"white-space:pre;overflow-x:auto;line-height:normal;font-family:Menlo,'DejaVu Sans Mono',consolas,'Courier New',monospace\"><span style=\"color: #008080; text-decoration-color: #008080; font-weight: bold\">328.1608</span>        <span style=\"color: #008080; text-decoration-color: #008080; font-weight: bold\">100852.9</span>        <span style=\"color: #008000; text-decoration-color: #008000\">\"? 152/200\"</span>\n",
       "</pre>\n"
      ],
      "text/plain": [
       "\u001b[1;36m328.1608\u001b[0m        \u001b[1;36m100852.9\u001b[0m        \u001b[32m\"? 152/200\"\u001b[0m\n"
      ]
     },
     "metadata": {},
     "output_type": "display_data"
    },
    {
     "data": {
      "text/html": [
       "<pre style=\"white-space:pre;overflow-x:auto;line-height:normal;font-family:Menlo,'DejaVu Sans Mono',consolas,'Courier New',monospace\"><span style=\"color: #008080; text-decoration-color: #008080; font-weight: bold\">328.1970</span>        <span style=\"color: #008080; text-decoration-color: #008080; font-weight: bold\">342366.7</span>        <span style=\"color: #008000; text-decoration-color: #008000\">\"y4-H2O/-2.8ppm,a5/-2.8ppm 198/200\"</span>\n",
       "</pre>\n"
      ],
      "text/plain": [
       "\u001b[1;36m328.1970\u001b[0m        \u001b[1;36m342366.7\u001b[0m        \u001b[32m\"y4-H2O/-2.8ppm,a5/-2.8ppm 198/200\"\u001b[0m\n"
      ]
     },
     "metadata": {},
     "output_type": "display_data"
    },
    {
     "data": {
      "text/html": [
       "<pre style=\"white-space:pre;overflow-x:auto;line-height:normal;font-family:Menlo,'DejaVu Sans Mono',consolas,'Courier New',monospace\"><span style=\"color: #008080; text-decoration-color: #008080; font-weight: bold\">340.1602</span>        <span style=\"color: #008080; text-decoration-color: #008080; font-weight: bold\">39167.2</span> <span style=\"color: #008000; text-decoration-color: #008000\">\"? 103/200\"</span>\n",
       "</pre>\n"
      ],
      "text/plain": [
       "\u001b[1;36m340.1602\u001b[0m        \u001b[1;36m39167.2\u001b[0m \u001b[32m\"? 103/200\"\u001b[0m\n"
      ]
     },
     "metadata": {},
     "output_type": "display_data"
    },
    {
     "data": {
      "text/html": [
       "<pre style=\"white-space:pre;overflow-x:auto;line-height:normal;font-family:Menlo,'DejaVu Sans Mono',consolas,'Courier New',monospace\"><span style=\"color: #008080; text-decoration-color: #008080; font-weight: bold\">346.2081</span>        <span style=\"color: #008080; text-decoration-color: #008080; font-weight: bold\">271160.8</span>        <span style=\"color: #008000; text-decoration-color: #008000\">\"y4/-1.1ppm 198/200\"</span>\n",
       "</pre>\n"
      ],
      "text/plain": [
       "\u001b[1;36m346.2081\u001b[0m        \u001b[1;36m271160.8\u001b[0m        \u001b[32m\"y4/-1.1ppm 198/200\"\u001b[0m\n"
      ]
     },
     "metadata": {},
     "output_type": "display_data"
    },
    {
     "data": {
      "text/html": [
       "<pre style=\"white-space:pre;overflow-x:auto;line-height:normal;font-family:Menlo,'DejaVu Sans Mono',consolas,'Courier New',monospace\"><span style=\"color: #008080; text-decoration-color: #008080; font-weight: bold\">354.1758</span>        <span style=\"color: #008080; text-decoration-color: #008080; font-weight: bold\">82324.8</span> <span style=\"color: #008000; text-decoration-color: #008000\">\"? 143/200\"</span>\n",
       "</pre>\n"
      ],
      "text/plain": [
       "\u001b[1;36m354.1758\u001b[0m        \u001b[1;36m82324.8\u001b[0m \u001b[32m\"? 143/200\"\u001b[0m\n"
      ]
     },
     "metadata": {},
     "output_type": "display_data"
    },
    {
     "data": {
      "text/html": [
       "<pre style=\"white-space:pre;overflow-x:auto;line-height:normal;font-family:Menlo,'DejaVu Sans Mono',consolas,'Courier New',monospace\"><span style=\"color: #008080; text-decoration-color: #008080; font-weight: bold\">356.1921</span>        <span style=\"color: #008080; text-decoration-color: #008080; font-weight: bold\">1466974.1</span>       <span style=\"color: #008000; text-decoration-color: #008000\">\"b5/-2.1ppm,y4-H2O+CO/-2.1ppm 200/200\"</span>\n",
       "</pre>\n"
      ],
      "text/plain": [
       "\u001b[1;36m356.1921\u001b[0m        \u001b[1;36m1466974.1\u001b[0m       \u001b[32m\"b5/-2.1ppm,y4-H2O+CO/-2.1ppm 200/200\"\u001b[0m\n"
      ]
     },
     "metadata": {},
     "output_type": "display_data"
    }
   ],
   "source": [
    "## First 10 lines of the dataset\n",
    "with open(dataset_location, \"rt\") as f:\n",
    "    for i, line in enumerate(f):\n",
    "        print(line.strip())\n",
    "        if i > 200:\n",
    "            break"
   ]
  },
  {
   "cell_type": "code",
   "execution_count": 9,
   "metadata": {},
   "outputs": [],
   "source": [
    "def read_msp(filename):\n",
    "    \"\"\"Iterate over MSP spectral library file and return spectra as dicts.\"\"\"\n",
    "    spectrum = {}\n",
    "    mz = []\n",
    "    intensity = []\n",
    "    annotation = []\n",
    "\n",
    "    with progress.open(filename, \"rt\") as f:\n",
    "        for line in f:\n",
    "            # `Name: ` is the first line of a new entry in the file\n",
    "            if line.startswith(\"Name: \"):\n",
    "                if spectrum:\n",
    "                    # Finalize and yield previous spectrum\n",
    "                    spectrum[\"sequence\"] = spectrum[\"Fullname\"].split(\".\")[1]  # Remove the previous/next amino acids\n",
    "                    spectrum[\"mz\"] = np.array(mz, dtype=\"float32\")\n",
    "                    spectrum[\"intensity\"] = np.array(intensity, dtype=\"float32\")\n",
    "                    spectrum[\"annotation\"] = np.array(annotation, dtype=\"str\")\n",
    "                    yield spectrum\n",
    "\n",
    "                    # Define new spectrum\n",
    "                    spectrum = {}\n",
    "                    mz = []\n",
    "                    intensity = []\n",
    "                    annotation = []\n",
    "\n",
    "                # Extract everything after `Name: `\n",
    "                spectrum[\"Name\"] = line.strip()[6:]\n",
    "\n",
    "            elif line.startswith(\"Comment: \"):\n",
    "                # Parse all comment items as metadata\n",
    "                metadata = [i.split(\"=\") for i in line[9:].split(\" \")]\n",
    "                for item in metadata:\n",
    "                    if len(item) == 2:\n",
    "                        spectrum[item[0]] = item[1]\n",
    "\n",
    "            elif line.startswith(\"Num peaks: \"):\n",
    "                spectrum[\"Num peaks\"] = int(line.strip()[11:])\n",
    "\n",
    "            elif len(line.split(\"\\t\")) == 3:\n",
    "                # Parse peak list items one-by-one\n",
    "                line = line.strip().split(\"\\t\")\n",
    "                mz.append(line[0])\n",
    "                intensity.append(line[1])\n",
    "                annotation.append(line[2].strip('\"'))\n",
    "\n",
    "    # Final spectrum\n",
    "    spectrum[\"sequence\"] = spectrum[\"Fullname\"].split(\".\")[1]  # Remove the previous/next amino acids\n",
    "    spectrum[\"mz\"] = np.array(mz, dtype=\"float32\")\n",
    "    spectrum[\"intensity\"] = np.array(intensity, dtype=\"float32\")\n",
    "    spectrum[\"annotation\"] = np.array(annotation, dtype=\"str\")"
   ]
  },
  {
   "cell_type": "code",
   "execution_count": null,
   "metadata": {},
   "outputs": [],
   "source": [
    "for spectrum in read_msp(\"human_hcd_tryp_best.msp\"):\n",
    "    print(spectrum[\"Name\"])\n",
    "    break"
   ]
  },
  {
   "cell_type": "code",
   "execution_count": null,
   "metadata": {},
   "outputs": [],
   "source": [
    "pd.DataFrame({\n",
    "    \"mz\": spectrum[\"mz\"],\n",
    "    \"intensity\": spectrum[\"intensity\"],\n",
    "    \"annotation\": spectrum[\"annotation\"]\n",
    "})"
   ]
  },
  {
   "cell_type": "code",
   "execution_count": null,
   "metadata": {},
   "outputs": [],
   "source": [
    "plt.figure(figsize=(10,5))\n",
    "\n",
    "sup.spectrum(\n",
    "    sus.MsmsSpectrum(\n",
    "        identifier = spectrum['Name'],\n",
    "        precursor_mz = float(spectrum['Parent']),\n",
    "        precursor_charge = int(spectrum['Charge']),\n",
    "        mz = spectrum['mz'],\n",
    "        intensity = spectrum['intensity']\n",
    "    )\n",
    ")\n",
    "plt.title(spectrum['Name'])\n",
    "plt.show()"
   ]
  },
  {
   "cell_type": "code",
   "execution_count": null,
   "metadata": {},
   "outputs": [],
   "source": []
  },
  {
   "cell_type": "code",
   "execution_count": null,
   "metadata": {},
   "outputs": [],
   "source": []
  },
  {
   "cell_type": "code",
   "execution_count": null,
   "metadata": {},
   "outputs": [],
   "source": []
  },
  {
   "cell_type": "code",
   "execution_count": null,
   "metadata": {},
   "outputs": [],
   "source": []
  },
  {
   "cell_type": "code",
   "execution_count": null,
   "metadata": {},
   "outputs": [],
   "source": []
  }
 ],
 "metadata": {
  "kernelspec": {
   "display_name": "microbe",
   "language": "python",
   "name": "python3"
  },
  "language_info": {
   "codemirror_mode": {
    "name": "ipython",
    "version": 3
   },
   "file_extension": ".py",
   "mimetype": "text/x-python",
   "name": "python",
   "nbconvert_exporter": "python",
   "pygments_lexer": "ipython3",
   "version": "3.11.11"
  }
 },
 "nbformat": 4,
 "nbformat_minor": 2
}
